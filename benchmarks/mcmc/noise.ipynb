{
 "cells": [
  {
   "cell_type": "code",
   "execution_count": 1,
   "metadata": {},
   "outputs": [],
   "source": [
    "from collections import defaultdict\n",
    "import itertools\n",
    "import numpy as np\n",
    "\n",
    "from benchmark import benchmark_chains\n",
    "import blackjax\n",
    "from blackjax.util import run_inference_algorithm\n",
    "from sampling_algorithms import samplers\n",
    "from inference_models import models\n",
    "\n"
   ]
  },
  {
   "cell_type": "code",
   "execution_count": 26,
   "metadata": {},
   "outputs": [
    {
     "name": "stdout",
     "output_type": "stream",
     "text": [
      "1000000 num steps\n"
     ]
    },
    {
     "data": {
      "text/html": [
       "\n",
       "<style>\n",
       "    /* Turns off some styling */\n",
       "    progress {\n",
       "        /* gets rid of default border in Firefox and Opera. */\n",
       "        border: none;\n",
       "        /* Needs to be in here for Safari polyfill so background images work as expected. */\n",
       "        background-size: auto;\n",
       "    }\n",
       "    progress:not([value]), progress:not([value])::-webkit-progress-bar {\n",
       "        background: repeating-linear-gradient(45deg, #7e7e7e, #7e7e7e 10px, #5c5c5c 10px, #5c5c5c 20px);\n",
       "    }\n",
       "    .progress-bar-interrupted, .progress-bar-interrupted::-webkit-progress-bar {\n",
       "        background: #F44336;\n",
       "    }\n",
       "</style>\n"
      ],
      "text/plain": [
       "<IPython.core.display.HTML object>"
      ]
     },
     "metadata": {},
     "output_type": "display_data"
    },
    {
     "data": {
      "text/html": [
       "\n",
       "    <div>\n",
       "      <progress value='1000000' class='' max='1000000' style='width:300px; height:20px; vertical-align: middle;'></progress>\n",
       "      100.00% [1000000/1000000 00:00&lt;?]\n",
       "    </div>\n",
       "    "
      ],
      "text/plain": [
       "<IPython.core.display.HTML object>"
      ]
     },
     "metadata": {},
     "output_type": "display_data"
    },
    {
     "name": "stdout",
     "output_type": "stream",
     "text": [
      "\n",
      "crossing 36338\n",
      "True mean [0. 0.]\n",
      "True std [10.          4.35889894]\n",
      "Empirical mean [ 0.00465225 -0.01843662]\n",
      "Empirical std [9.969981 4.331024]\n",
      "321429 num steps\n"
     ]
    },
    {
     "data": {
      "text/html": [
       "\n",
       "<style>\n",
       "    /* Turns off some styling */\n",
       "    progress {\n",
       "        /* gets rid of default border in Firefox and Opera. */\n",
       "        border: none;\n",
       "        /* Needs to be in here for Safari polyfill so background images work as expected. */\n",
       "        background-size: auto;\n",
       "    }\n",
       "    progress:not([value]), progress:not([value])::-webkit-progress-bar {\n",
       "        background: repeating-linear-gradient(45deg, #7e7e7e, #7e7e7e 10px, #5c5c5c 10px, #5c5c5c 20px);\n",
       "    }\n",
       "    .progress-bar-interrupted, .progress-bar-interrupted::-webkit-progress-bar {\n",
       "        background: #F44336;\n",
       "    }\n",
       "</style>\n"
      ],
      "text/plain": [
       "<IPython.core.display.HTML object>"
      ]
     },
     "metadata": {},
     "output_type": "display_data"
    },
    {
     "data": {
      "text/html": [
       "\n",
       "    <div>\n",
       "      <progress value='321429' class='' max='321429' style='width:300px; height:20px; vertical-align: middle;'></progress>\n",
       "      100.00% [321429/321429 00:00&lt;?]\n",
       "    </div>\n",
       "    "
      ],
      "text/plain": [
       "<IPython.core.display.HTML object>"
      ]
     },
     "metadata": {},
     "output_type": "display_data"
    },
    {
     "name": "stdout",
     "output_type": "stream",
     "text": [
      "\n",
      "crossing 10760\n",
      "True mean [0. 0.]\n",
      "True std [10.          4.35889894]\n",
      "Empirical mean [ 0.02350745 -0.00479493]\n",
      "Empirical std [9.991353  4.3407574]\n",
      "191490 num steps\n"
     ]
    },
    {
     "data": {
      "text/html": [
       "\n",
       "<style>\n",
       "    /* Turns off some styling */\n",
       "    progress {\n",
       "        /* gets rid of default border in Firefox and Opera. */\n",
       "        border: none;\n",
       "        /* Needs to be in here for Safari polyfill so background images work as expected. */\n",
       "        background-size: auto;\n",
       "    }\n",
       "    progress:not([value]), progress:not([value])::-webkit-progress-bar {\n",
       "        background: repeating-linear-gradient(45deg, #7e7e7e, #7e7e7e 10px, #5c5c5c 10px, #5c5c5c 20px);\n",
       "    }\n",
       "    .progress-bar-interrupted, .progress-bar-interrupted::-webkit-progress-bar {\n",
       "        background: #F44336;\n",
       "    }\n",
       "</style>\n"
      ],
      "text/plain": [
       "<IPython.core.display.HTML object>"
      ]
     },
     "metadata": {},
     "output_type": "display_data"
    },
    {
     "data": {
      "text/html": [
       "\n",
       "    <div>\n",
       "      <progress value='191490' class='' max='191490' style='width:300px; height:20px; vertical-align: middle;'></progress>\n",
       "      100.00% [191490/191490 00:00&lt;?]\n",
       "    </div>\n",
       "    "
      ],
      "text/plain": [
       "<IPython.core.display.HTML object>"
      ]
     },
     "metadata": {},
     "output_type": "display_data"
    },
    {
     "name": "stdout",
     "output_type": "stream",
     "text": [
      "\n",
      "crossing 7203\n",
      "True mean [0. 0.]\n",
      "True std [10.          4.35889894]\n",
      "Empirical mean [0.00754535 0.00712867]\n",
      "Empirical std [10.010448   4.3666415]\n",
      "136364 num steps\n"
     ]
    },
    {
     "data": {
      "text/html": [
       "\n",
       "<style>\n",
       "    /* Turns off some styling */\n",
       "    progress {\n",
       "        /* gets rid of default border in Firefox and Opera. */\n",
       "        border: none;\n",
       "        /* Needs to be in here for Safari polyfill so background images work as expected. */\n",
       "        background-size: auto;\n",
       "    }\n",
       "    progress:not([value]), progress:not([value])::-webkit-progress-bar {\n",
       "        background: repeating-linear-gradient(45deg, #7e7e7e, #7e7e7e 10px, #5c5c5c 10px, #5c5c5c 20px);\n",
       "    }\n",
       "    .progress-bar-interrupted, .progress-bar-interrupted::-webkit-progress-bar {\n",
       "        background: #F44336;\n",
       "    }\n",
       "</style>\n"
      ],
      "text/plain": [
       "<IPython.core.display.HTML object>"
      ]
     },
     "metadata": {},
     "output_type": "display_data"
    },
    {
     "data": {
      "text/html": [
       "\n",
       "    <div>\n",
       "      <progress value='136364' class='' max='136364' style='width:300px; height:20px; vertical-align: middle;'></progress>\n",
       "      100.00% [136364/136364 00:00&lt;?]\n",
       "    </div>\n",
       "    "
      ],
      "text/plain": [
       "<IPython.core.display.HTML object>"
      ]
     },
     "metadata": {},
     "output_type": "display_data"
    },
    {
     "name": "stdout",
     "output_type": "stream",
     "text": [
      "\n",
      "crossing 4169\n",
      "True mean [0. 0.]\n",
      "True std [10.          4.35889894]\n",
      "Empirical mean [ 0.00056815 -0.0261774 ]\n",
      "Empirical std [9.9560995 4.311671 ]\n",
      "105883 num steps\n"
     ]
    },
    {
     "data": {
      "text/html": [
       "\n",
       "<style>\n",
       "    /* Turns off some styling */\n",
       "    progress {\n",
       "        /* gets rid of default border in Firefox and Opera. */\n",
       "        border: none;\n",
       "        /* Needs to be in here for Safari polyfill so background images work as expected. */\n",
       "        background-size: auto;\n",
       "    }\n",
       "    progress:not([value]), progress:not([value])::-webkit-progress-bar {\n",
       "        background: repeating-linear-gradient(45deg, #7e7e7e, #7e7e7e 10px, #5c5c5c 10px, #5c5c5c 20px);\n",
       "    }\n",
       "    .progress-bar-interrupted, .progress-bar-interrupted::-webkit-progress-bar {\n",
       "        background: #F44336;\n",
       "    }\n",
       "</style>\n"
      ],
      "text/plain": [
       "<IPython.core.display.HTML object>"
      ]
     },
     "metadata": {},
     "output_type": "display_data"
    },
    {
     "data": {
      "text/html": [
       "\n",
       "    <div>\n",
       "      <progress value='105883' class='' max='105883' style='width:300px; height:20px; vertical-align: middle;'></progress>\n",
       "      100.00% [105883/105883 00:00&lt;?]\n",
       "    </div>\n",
       "    "
      ],
      "text/plain": [
       "<IPython.core.display.HTML object>"
      ]
     },
     "metadata": {},
     "output_type": "display_data"
    },
    {
     "name": "stdout",
     "output_type": "stream",
     "text": [
      "\n",
      "crossing 3912\n",
      "True mean [0. 0.]\n",
      "True std [10.          4.35889894]\n",
      "Empirical mean [-0.02996373 -0.04309034]\n",
      "Empirical std [9.926795 4.271321]\n",
      "86539 num steps\n"
     ]
    },
    {
     "data": {
      "text/html": [
       "\n",
       "<style>\n",
       "    /* Turns off some styling */\n",
       "    progress {\n",
       "        /* gets rid of default border in Firefox and Opera. */\n",
       "        border: none;\n",
       "        /* Needs to be in here for Safari polyfill so background images work as expected. */\n",
       "        background-size: auto;\n",
       "    }\n",
       "    progress:not([value]), progress:not([value])::-webkit-progress-bar {\n",
       "        background: repeating-linear-gradient(45deg, #7e7e7e, #7e7e7e 10px, #5c5c5c 10px, #5c5c5c 20px);\n",
       "    }\n",
       "    .progress-bar-interrupted, .progress-bar-interrupted::-webkit-progress-bar {\n",
       "        background: #F44336;\n",
       "    }\n",
       "</style>\n"
      ],
      "text/plain": [
       "<IPython.core.display.HTML object>"
      ]
     },
     "metadata": {},
     "output_type": "display_data"
    },
    {
     "data": {
      "text/html": [
       "\n",
       "    <div>\n",
       "      <progress value='86539' class='' max='86539' style='width:300px; height:20px; vertical-align: middle;'></progress>\n",
       "      100.00% [86539/86539 00:00&lt;?]\n",
       "    </div>\n",
       "    "
      ],
      "text/plain": [
       "<IPython.core.display.HTML object>"
      ]
     },
     "metadata": {},
     "output_type": "display_data"
    },
    {
     "name": "stdout",
     "output_type": "stream",
     "text": [
      "\n",
      "crossing 2460\n",
      "True mean [0. 0.]\n",
      "True std [10.          4.35889894]\n",
      "Empirical mean [ 0.02865562 -0.0529291 ]\n",
      "Empirical std [9.9111  4.26046]\n",
      "73171 num steps\n"
     ]
    },
    {
     "data": {
      "text/html": [
       "\n",
       "<style>\n",
       "    /* Turns off some styling */\n",
       "    progress {\n",
       "        /* gets rid of default border in Firefox and Opera. */\n",
       "        border: none;\n",
       "        /* Needs to be in here for Safari polyfill so background images work as expected. */\n",
       "        background-size: auto;\n",
       "    }\n",
       "    progress:not([value]), progress:not([value])::-webkit-progress-bar {\n",
       "        background: repeating-linear-gradient(45deg, #7e7e7e, #7e7e7e 10px, #5c5c5c 10px, #5c5c5c 20px);\n",
       "    }\n",
       "    .progress-bar-interrupted, .progress-bar-interrupted::-webkit-progress-bar {\n",
       "        background: #F44336;\n",
       "    }\n",
       "</style>\n"
      ],
      "text/plain": [
       "<IPython.core.display.HTML object>"
      ]
     },
     "metadata": {},
     "output_type": "display_data"
    },
    {
     "data": {
      "text/html": [
       "\n",
       "    <div>\n",
       "      <progress value='73171' class='' max='73171' style='width:300px; height:20px; vertical-align: middle;'></progress>\n",
       "      100.00% [73171/73171 00:00&lt;?]\n",
       "    </div>\n",
       "    "
      ],
      "text/plain": [
       "<IPython.core.display.HTML object>"
      ]
     },
     "metadata": {},
     "output_type": "display_data"
    },
    {
     "name": "stdout",
     "output_type": "stream",
     "text": [
      "\n",
      "crossing 2628\n",
      "True mean [0. 0.]\n",
      "True std [10.          4.35889894]\n",
      "Empirical mean [ 0.02320021 -0.08391798]\n",
      "Empirical std [9.858228 4.202736]\n",
      "63381 num steps\n"
     ]
    },
    {
     "data": {
      "text/html": [
       "\n",
       "<style>\n",
       "    /* Turns off some styling */\n",
       "    progress {\n",
       "        /* gets rid of default border in Firefox and Opera. */\n",
       "        border: none;\n",
       "        /* Needs to be in here for Safari polyfill so background images work as expected. */\n",
       "        background-size: auto;\n",
       "    }\n",
       "    progress:not([value]), progress:not([value])::-webkit-progress-bar {\n",
       "        background: repeating-linear-gradient(45deg, #7e7e7e, #7e7e7e 10px, #5c5c5c 10px, #5c5c5c 20px);\n",
       "    }\n",
       "    .progress-bar-interrupted, .progress-bar-interrupted::-webkit-progress-bar {\n",
       "        background: #F44336;\n",
       "    }\n",
       "</style>\n"
      ],
      "text/plain": [
       "<IPython.core.display.HTML object>"
      ]
     },
     "metadata": {},
     "output_type": "display_data"
    },
    {
     "data": {
      "text/html": [
       "\n",
       "    <div>\n",
       "      <progress value='63381' class='' max='63381' style='width:300px; height:20px; vertical-align: middle;'></progress>\n",
       "      100.00% [63381/63381 00:00&lt;?]\n",
       "    </div>\n",
       "    "
      ],
      "text/plain": [
       "<IPython.core.display.HTML object>"
      ]
     },
     "metadata": {},
     "output_type": "display_data"
    },
    {
     "name": "stdout",
     "output_type": "stream",
     "text": [
      "\n",
      "crossing 2004\n",
      "True mean [0. 0.]\n",
      "True std [10.          4.35889894]\n",
      "Empirical mean [ 0.02368275 -0.16893217]\n",
      "Empirical std [9.714158  4.0426064]\n",
      "55901 num steps\n"
     ]
    },
    {
     "data": {
      "text/html": [
       "\n",
       "<style>\n",
       "    /* Turns off some styling */\n",
       "    progress {\n",
       "        /* gets rid of default border in Firefox and Opera. */\n",
       "        border: none;\n",
       "        /* Needs to be in here for Safari polyfill so background images work as expected. */\n",
       "        background-size: auto;\n",
       "    }\n",
       "    progress:not([value]), progress:not([value])::-webkit-progress-bar {\n",
       "        background: repeating-linear-gradient(45deg, #7e7e7e, #7e7e7e 10px, #5c5c5c 10px, #5c5c5c 20px);\n",
       "    }\n",
       "    .progress-bar-interrupted, .progress-bar-interrupted::-webkit-progress-bar {\n",
       "        background: #F44336;\n",
       "    }\n",
       "</style>\n"
      ],
      "text/plain": [
       "<IPython.core.display.HTML object>"
      ]
     },
     "metadata": {},
     "output_type": "display_data"
    },
    {
     "data": {
      "text/html": [
       "\n",
       "    <div>\n",
       "      <progress value='55901' class='' max='55901' style='width:300px; height:20px; vertical-align: middle;'></progress>\n",
       "      100.00% [55901/55901 00:00&lt;?]\n",
       "    </div>\n",
       "    "
      ],
      "text/plain": [
       "<IPython.core.display.HTML object>"
      ]
     },
     "metadata": {},
     "output_type": "display_data"
    },
    {
     "name": "stdout",
     "output_type": "stream",
     "text": [
      "\n",
      "crossing 2968\n",
      "True mean [0. 0.]\n",
      "True std [10.          4.35889894]\n",
      "Empirical mean [-0.0038301  -0.27708766]\n",
      "Empirical std [9.528275  3.8412962]\n",
      "50000 num steps\n"
     ]
    },
    {
     "data": {
      "text/html": [
       "\n",
       "<style>\n",
       "    /* Turns off some styling */\n",
       "    progress {\n",
       "        /* gets rid of default border in Firefox and Opera. */\n",
       "        border: none;\n",
       "        /* Needs to be in here for Safari polyfill so background images work as expected. */\n",
       "        background-size: auto;\n",
       "    }\n",
       "    progress:not([value]), progress:not([value])::-webkit-progress-bar {\n",
       "        background: repeating-linear-gradient(45deg, #7e7e7e, #7e7e7e 10px, #5c5c5c 10px, #5c5c5c 20px);\n",
       "    }\n",
       "    .progress-bar-interrupted, .progress-bar-interrupted::-webkit-progress-bar {\n",
       "        background: #F44336;\n",
       "    }\n",
       "</style>\n"
      ],
      "text/plain": [
       "<IPython.core.display.HTML object>"
      ]
     },
     "metadata": {},
     "output_type": "display_data"
    },
    {
     "data": {
      "text/html": [
       "\n",
       "    <div>\n",
       "      <progress value='50000' class='' max='50000' style='width:300px; height:20px; vertical-align: middle;'></progress>\n",
       "      100.00% [50000/50000 00:00&lt;?]\n",
       "    </div>\n",
       "    "
      ],
      "text/plain": [
       "<IPython.core.display.HTML object>"
      ]
     },
     "metadata": {},
     "output_type": "display_data"
    },
    {
     "name": "stdout",
     "output_type": "stream",
     "text": [
      "\n",
      "crossing 3030\n",
      "True mean [0. 0.]\n",
      "True std [10.          4.35889894]\n",
      "Empirical mean [ 0.02703223 -0.39371407]\n",
      "Empirical std [9.322968  3.6544065]\n"
     ]
    },
    {
     "data": {
      "text/plain": [
       "defaultdict(float,\n",
       "            {('Banana', 0.1, 16.765137, 0.0): Array(0.00025234, dtype=float32),\n",
       "             ('Banana',\n",
       "              0.3111111111111111,\n",
       "              16.765137,\n",
       "              0.0): Array(0.00030255, dtype=float32),\n",
       "             ('Banana',\n",
       "              0.5222222222222223,\n",
       "              16.765137,\n",
       "              0.0): Array(0.00041153, dtype=float32),\n",
       "             ('Banana',\n",
       "              0.7333333333333333,\n",
       "              16.765137,\n",
       "              0.0): Array(0.00035002, dtype=float32),\n",
       "             ('Banana',\n",
       "              0.9444444444444444,\n",
       "              16.765137,\n",
       "              0.0): Array(0.00036606, dtype=float32),\n",
       "             ('Banana',\n",
       "              1.1555555555555557,\n",
       "              16.765137,\n",
       "              0.0): Array(0.00042539, dtype=float32),\n",
       "             ('Banana',\n",
       "              1.3666666666666667,\n",
       "              16.765137,\n",
       "              0.0): Array(0.00052169, dtype=float32),\n",
       "             ('Banana',\n",
       "              1.577777777777778,\n",
       "              16.765137,\n",
       "              0.0): Array(0.00100992, dtype=float32),\n",
       "             ('Banana',\n",
       "              1.788888888888889,\n",
       "              16.765137,\n",
       "              0.0): Array(0.00239887, dtype=float32),\n",
       "             ('Banana',\n",
       "              2.0,\n",
       "              16.765137,\n",
       "              0.0): Array(0.00431339, dtype=float32)})"
      ]
     },
     "execution_count": 26,
     "metadata": {},
     "output_type": "execute_result"
    }
   ],
   "source": [
    "\n",
    "\n",
    "import math\n",
    "\n",
    "\n",
    "def sampler_mclmc(step_size, L, noise):\n",
    "\n",
    "    def s(logdensity_fn, num_steps, initial_position, key):\n",
    "\n",
    "        num_steps_per_traj = L/step_size\n",
    "        alg = blackjax.mclmc(\n",
    "        logdensity_fn=logdensity_fn,\n",
    "        step_size=step_size,\n",
    "        L=L,\n",
    "        noise=noise\n",
    "        )\n",
    "        \n",
    "        _, out, info = run_inference_algorithm(\n",
    "        rng_key=key,\n",
    "        initial_state_or_position=initial_position,\n",
    "        inference_algorithm=alg,\n",
    "        num_steps=num_steps, \n",
    "        transform=lambda x: x.position, \n",
    "        progress_bar=True)\n",
    "\n",
    "        # print(out.mean(axis=0))\n",
    "\n",
    "        # print(info.acceptance_rate.mean(), \"acceptance probability\")\n",
    "        # print(out.var(axis=0), \"acceptance probability\")\n",
    "\n",
    "        return out, 1\n",
    "\n",
    "    return s\n",
    "\n",
    "results = defaultdict(float)\n",
    "# MCLMCAdaptationState(L=Array(3.1222076, dtype=float32), step_size=Array(0.9004941, dtype=float32))\n",
    "for model in [\"Banana\"]:\n",
    "    # for sampler in [\"mclmc\"]:\n",
    "    # for step_size, L, noise in itertools.product([1.005], [16.765137], np.linspace(0, 10, 10)):\n",
    "    for step_size, L, noise in itertools.product(np.linspace(0.1,2, 10), [16.765137], [0.0]):\n",
    "    # for step_size, L in itertools.product([0.9004941, 2.], [3.1222076]):\n",
    "    # for step_size, L, noise in itertools.product([0.90049], [3.1222076], np.linspace(0, 1e2, 20)):\n",
    "    # for sampler in itertools.product(np.linspace(1e-3, 1e0, 10), np.linspace(5,50, 10)):\n",
    "        # result = benchmark(models[model], samplers[sampler])\n",
    "        # result = benchmark_chains(models[model], samplers[sampler])\n",
    "        num_steps = n=math.ceil(100000./(step_size))\n",
    "        print(num_steps, \"num steps\"   )\n",
    "        result, bias = benchmark_chains(models[model], sampler_mclmc(step_size, L, noise), batch=50, n=num_steps)\n",
    "        # print(result, result2, \"results\")\n",
    "        results[(model, step_size, L, noise)] = bias\n",
    "\n",
    "results"
   ]
  },
  {
   "cell_type": "code",
   "execution_count": 2,
   "metadata": {},
   "outputs": [
    {
     "name": "stdout",
     "output_type": "stream",
     "text": [
      "params MCLMCAdaptationState(L=Array(21.177597, dtype=float32), step_size=Array(1.1376954, dtype=float32))\n",
      "params MCLMCAdaptationState(L=Array(14.84041, dtype=float32), step_size=Array(0.7551983, dtype=float32))\n",
      "params MCLMCAdaptationState(L=Array(16.06433, dtype=float32), step_size=Array(0.9211877, dtype=float32))\n",
      "params MCLMCAdaptationState(L=Array(16.411818, dtype=float32), step_size=Array(1.1511111, dtype=float32))\n",
      "params MCLMCAdaptationState(L=Array(17.342123, dtype=float32), step_size=Array(0.8043373, dtype=float32))\n",
      "params MCLMCAdaptationState(L=Array(17.853758, dtype=float32), step_size=Array(1.0787181, dtype=float32))\n",
      "params MCLMCAdaptationState(L=Array(15.327367, dtype=float32), step_size=Array(1.1615496, dtype=float32))\n",
      "params MCLMCAdaptationState(L=Array(15.266425, dtype=float32), step_size=Array(1.278069, dtype=float32))\n",
      "params MCLMCAdaptationState(L=Array(16.765137, dtype=float32), step_size=Array(1.0512121, dtype=float32))\n",
      "params MCLMCAdaptationState(L=Array(16.871208, dtype=float32), step_size=Array(1.067196, dtype=float32))\n",
      "params MCLMCAdaptationState(L=Array(17.855764, dtype=float32), step_size=Array(1.1782019, dtype=float32))\n",
      "params MCLMCAdaptationState(L=Array(18.592234, dtype=float32), step_size=Array(0.8758688, dtype=float32))\n",
      "params MCLMCAdaptationState(L=Array(21.262577, dtype=float32), step_size=Array(0.93654734, dtype=float32))\n",
      "params MCLMCAdaptationState(L=Array(16.995035, dtype=float32), step_size=Array(0.7698092, dtype=float32))\n",
      "params MCLMCAdaptationState(L=Array(17.405396, dtype=float32), step_size=Array(1.0473521, dtype=float32))\n",
      "params MCLMCAdaptationState(L=Array(13.448609, dtype=float32), step_size=Array(0.88385093, dtype=float32))\n",
      "params MCLMCAdaptationState(L=Array(15.962414, dtype=float32), step_size=Array(0.8577496, dtype=float32))\n",
      "params MCLMCAdaptationState(L=Array(14.470339, dtype=float32), step_size=Array(1.0942521, dtype=float32))\n",
      "params MCLMCAdaptationState(L=Array(16.780966, dtype=float32), step_size=Array(1.0042485, dtype=float32))\n",
      "params MCLMCAdaptationState(L=Array(22.284264, dtype=float32), step_size=Array(1.0815957, dtype=float32))\n",
      "crossing 3639\n",
      "True mean [0. 0.]\n",
      "True std [10.          4.35889894]\n",
      "Empirical mean [-0.08236656 -0.02387454]\n",
      "Empirical std [9.95813  4.316433]\n"
     ]
    },
    {
     "data": {
      "text/plain": [
       "defaultdict(float,\n",
       "            {('Banana', 'mclmc'): (Array(0.01374004, dtype=float32),\n",
       "              Array(0.0003792, dtype=float32))})"
      ]
     },
     "execution_count": 2,
     "metadata": {},
     "output_type": "execute_result"
    }
   ],
   "source": [
    "results = defaultdict(float)\n",
    "\n",
    "for model in [\"Banana\"]:\n",
    "    for sampler in [\"mclmc\"]:\n",
    "    # for step_size in []:\n",
    "    # for sampler in itertools.product(np.linspace(1e-3, 1e0, 10), np.linspace(5,50, 10)):\n",
    "        # result = benchmark(models[model], samplers[sampler])\n",
    "        # result = benchmark_chains(models[model], samplers[sampler])\n",
    "        result = benchmark_chains(models[model], samplers[sampler], batch=20, n = 100000)\n",
    "        # print(result, result2, \"results\")\n",
    "        results[(model, sampler)] = result\n",
    "\n",
    "results"
   ]
  },
  {
   "cell_type": "code",
   "execution_count": 27,
   "metadata": {},
   "outputs": [
    {
     "data": {
      "image/png": "[encoded data removed]",
      "text/plain": [
       "<Figure size 640x480 with 1 Axes>"
      ]
     },
     "metadata": {},
     "output_type": "display_data"
    }
   ],
   "source": [
    "import matplotlib.pyplot as plt\n",
    "\n",
    "# Extract noise values from the keys of the results dictionary\n",
    "step_size_values = [key[1] for key in results.keys()]\n",
    "\n",
    "# Extract result values from the dictionary\n",
    "result_values = list(results.values())\n",
    "\n",
    "\n",
    "# Plot the results against noise\n",
    "plt.plot(step_size_values, result_values)\n",
    "# plt.plot(noise_values, np.exp(np.array(noise_values)/10) )\n",
    "plt.xlabel('step size')\n",
    "plt.ylabel('Bias (mean over 50 runs)')\n",
    "plt.title('Banana, 2D, 100000 steps')\n",
    "plt.show()\n"
   ]
  },
  {
   "cell_type": "code",
   "execution_count": null,
   "metadata": {},
   "outputs": [],
   "source": [
    "import matplotlib.pyplot as plt\n",
    "\n",
    "# Extract noise values from the keys of the results dictionary\n",
    "noise_values = [key[3] for key in results.keys()]\n",
    "\n",
    "# Extract result values from the dictionary\n",
    "result_values = list(results.values())\n",
    "\n",
    "\n",
    "# Plot the results against noise\n",
    "plt.plot(noise_values, result_values)\n",
    "# plt.plot(noise_values, np.exp(np.array(noise_values)/10) )\n",
    "plt.xlabel('Noise=n*normal(0,1)')\n",
    "plt.ylabel('Bias (mean over 50 runs)')\n",
    "plt.title('Banana, 2D, 100000 steps')\n",
    "plt.show()\n"
   ]
  },
  {
   "cell_type": "code",
   "execution_count": 3,
   "metadata": {},
   "outputs": [
    {
     "name": "stdout",
     "output_type": "stream",
     "text": [
      "params MCLMCAdaptationState(L=Array(12.025895, dtype=float32), step_size=Array(0.37484604, dtype=float32))\n",
      "crossing 2532\n",
      "True mean [0. 0.]\n",
      "True std [10.          4.35889894]\n",
      "Empirical mean [-1.0076498 -0.2394684]\n",
      "Empirical std [9.526986  3.3369374]\n"
     ]
    }
   ],
   "source": []
  },
  {
   "cell_type": "code",
   "execution_count": 11,
   "metadata": {},
   "outputs": [
    {
     "data": {
      "image/png": "[encoded data removed]",
      "text/plain": [
       "<Figure size 1000x800 with 2 Axes>"
      ]
     },
     "metadata": {},
     "output_type": "display_data"
    }
   ],
   "source": [
    "import seaborn as sns\n",
    "\n",
    "import matplotlib.pyplot as plt\n",
    "\n",
    "# Extract x and y values from the keys of the results dictionary\n",
    "x_values = [key[0] for key in results.keys()]\n",
    "y_values = [key[1] for key in results.keys()]\n",
    "\n",
    "# Extract heat values from the dictionary\n",
    "heat_values = list(results.values())\n",
    "\n",
    "\n",
    "# Reshape the heat values into a 2D array\n",
    "# heat_array = np.array(heat_values).reshape(len(x_values), len(y_values))\n",
    "heat_array = np.array(heat_values).reshape((10,10))\n",
    "\n",
    "# Create the heatmap\n",
    "plt.figure(figsize=(10, 8))\n",
    "sns.heatmap(heat_array, annot=True, cmap='viridis')\n",
    "plt.xlabel('X')\n",
    "plt.ylabel('Y')\n",
    "plt.title('Heatmap of Results')\n",
    "plt.show()\n"
   ]
  },
  {
   "cell_type": "code",
   "execution_count": 12,
   "metadata": {},
   "outputs": [
    {
     "data": {
      "text/plain": [
       "defaultdict(float,\n",
       "            {('simple', (0.001, 5.0)): Array(0., dtype=float32),\n",
       "             ('simple', (0.001, 10.0)): Array(0., dtype=float32),\n",
       "             ('simple', (0.001, 15.0)): Array(0., dtype=float32),\n",
       "             ('simple', (0.001, 20.0)): Array(0., dtype=float32),\n",
       "             ('simple', (0.001, 25.0)): Array(0., dtype=float32),\n",
       "             ('simple', (0.001, 30.0)): Array(0., dtype=float32),\n",
       "             ('simple', (0.001, 35.0)): Array(0., dtype=float32),\n",
       "             ('simple', (0.001, 40.0)): Array(0., dtype=float32),\n",
       "             ('simple', (0.001, 45.0)): Array(0., dtype=float32),\n",
       "             ('simple', (0.001, 50.0)): Array(0., dtype=float32),\n",
       "             ('simple', (0.112, 5.0)): Array(0., dtype=float32),\n",
       "             ('simple', (0.112, 10.0)): Array(0., dtype=float32),\n",
       "             ('simple', (0.112, 15.0)): Array(0., dtype=float32),\n",
       "             ('simple', (0.112, 20.0)): Array(0.05875441, dtype=float32),\n",
       "             ('simple', (0.112, 25.0)): Array(0.06527415, dtype=float32),\n",
       "             ('simple', (0.112, 30.0)): Array(0.07530121, dtype=float32),\n",
       "             ('simple', (0.112, 35.0)): Array(0.08488964, dtype=float32),\n",
       "             ('simple', (0.112, 40.0)): Array(0.09174312, dtype=float32),\n",
       "             ('simple', (0.112, 45.0)): Array(0.09615385, dtype=float32),\n",
       "             ('simple', (0.112, 50.0)): Array(0.10893247, dtype=float32),\n",
       "             ('simple', (0.223, 5.0)): Array(0., dtype=float32),\n",
       "             ('simple', (0.223, 10.0)): Array(0.05230125, dtype=float32),\n",
       "             ('simple', (0.223, 15.0)): Array(0.07473841, dtype=float32),\n",
       "             ('simple', (0.223, 20.0)): Array(0.08976661, dtype=float32),\n",
       "             ('simple', (0.223, 25.0)): Array(0.09920635, dtype=float32),\n",
       "             ('simple', (0.223, 30.0)): Array(0.10395011, dtype=float32),\n",
       "             ('simple', (0.223, 35.0)): Array(0.11389522, dtype=float32),\n",
       "             ('simple', (0.223, 40.0)): Array(0.12106538, dtype=float32),\n",
       "             ('simple', (0.223, 45.0)): Array(0.11600928, dtype=float32),\n",
       "             ('simple', (0.223, 50.0)): Array(0.13333334, dtype=float32),\n",
       "             ('simple', (0.334, 5.0)): Array(0., dtype=float32),\n",
       "             ('simple', (0.334, 10.0)): Array(0.0739645, dtype=float32),\n",
       "             ('simple', (0.334, 15.0)): Array(0.09009009, dtype=float32),\n",
       "             ('simple', (0.334, 20.0)): Array(0.10799136, dtype=float32),\n",
       "             ('simple', (0.334, 25.0)): Array(0.11037528, dtype=float32),\n",
       "             ('simple', (0.334, 30.0)): Array(0.10752688, dtype=float32),\n",
       "             ('simple', (0.334, 35.0)): Array(0.13020833, dtype=float32),\n",
       "             ('simple', (0.334, 40.0)): Array(0.12953368, dtype=float32),\n",
       "             ('simple', (0.334, 45.0)): Array(0.12919897, dtype=float32),\n",
       "             ('simple', (0.334, 50.0)): Array(0.12531328, dtype=float32),\n",
       "             ('simple', (0.445, 5.0)): Array(0.06119951, dtype=float32),\n",
       "             ('simple', (0.445, 10.0)): Array(0.0902527, dtype=float32),\n",
       "             ('simple', (0.445, 15.0)): Array(0.10309278, dtype=float32),\n",
       "             ('simple', (0.445, 20.0)): Array(0.11876485, dtype=float32),\n",
       "             ('simple', (0.445, 25.0)): Array(0.11764706, dtype=float32),\n",
       "             ('simple', (0.445, 30.0)): Array(0.11961722, dtype=float32),\n",
       "             ('simple', (0.445, 35.0)): Array(0.13297872, dtype=float32),\n",
       "             ('simple', (0.445, 40.0)): Array(0.12787724, dtype=float32),\n",
       "             ('simple', (0.445, 45.0)): Array(0.13333334, dtype=float32),\n",
       "             ('simple', (0.445, 50.0)): Array(0.14492753, dtype=float32),\n",
       "             ('simple', (0.556, 5.0)): Array(0.0748503, dtype=float32),\n",
       "             ('simple', (0.556, 10.0)): Array(0.09746589, dtype=float32),\n",
       "             ('simple', (0.556, 15.0)): Array(0.11682243, dtype=float32),\n",
       "             ('simple', (0.556, 20.0)): Array(0.125, dtype=float32),\n",
       "             ('simple', (0.556, 25.0)): Array(0.12626262, dtype=float32),\n",
       "             ('simple', (0.556, 30.0)): Array(0.13404825, dtype=float32),\n",
       "             ('simple', (0.556, 35.0)): Array(0.13550135, dtype=float32),\n",
       "             ('simple', (0.556, 40.0)): Array(0.13440861, dtype=float32),\n",
       "             ('simple', (0.556, 45.0)): Array(0.1285347, dtype=float32),\n",
       "             ('simple', (0.556, 50.0)): Array(0.15060242, dtype=float32),\n",
       "             ('simple', (0.667, 5.0)): Array(0.0805153, dtype=float32),\n",
       "             ('simple', (0.667, 10.0)): Array(0.11086474, dtype=float32),\n",
       "             ('simple', (0.667, 15.0)): Array(0.12919897, dtype=float32),\n",
       "             ('simple', (0.667, 20.0)): Array(0.13020833, dtype=float32),\n",
       "             ('simple', (0.667, 25.0)): Array(0.14409222, dtype=float32),\n",
       "             ('simple', (0.667, 30.0)): Array(0.13368984, dtype=float32),\n",
       "             ('simple', (0.667, 35.0)): Array(0.13927576, dtype=float32),\n",
       "             ('simple', (0.667, 40.0)): Array(0.14880952, dtype=float32),\n",
       "             ('simple', (0.667, 45.0)): Array(0.14084508, dtype=float32),\n",
       "             ('simple', (0.667, 50.0)): Array(0.15432099, dtype=float32),\n",
       "             ('simple', (0.778, 5.0)): Array(0.08912656, dtype=float32),\n",
       "             ('simple', (0.778, 10.0)): Array(0.10845987, dtype=float32),\n",
       "             ('simple', (0.778, 15.0)): Array(0.13850416, dtype=float32),\n",
       "             ('simple', (0.778, 20.0)): Array(0.12953368, dtype=float32),\n",
       "             ('simple', (0.778, 25.0)): Array(0.14204545, dtype=float32),\n",
       "             ('simple', (0.778, 30.0)): Array(0.13736264, dtype=float32),\n",
       "             ('simple', (0.778, 35.0)): Array(0.13736264, dtype=float32),\n",
       "             ('simple', (0.778, 40.0)): Array(0.14450867, dtype=float32),\n",
       "             ('simple', (0.778, 45.0)): Array(0.14285715, dtype=float32),\n",
       "             ('simple', (0.778, 50.0)): Array(0.1577287, dtype=float32),\n",
       "             ('simple', (0.889, 5.0)): Array(0.09191176, dtype=float32),\n",
       "             ('simple', (0.889, 10.0)): Array(0.11494253, dtype=float32),\n",
       "             ('simple', (0.889, 15.0)): Array(0.13661203, dtype=float32),\n",
       "             ('simple', (0.889, 20.0)): Array(0.13020833, dtype=float32),\n",
       "             ('simple', (0.889, 25.0)): Array(0.13333334, dtype=float32),\n",
       "             ('simple', (0.889, 30.0)): Array(0.1396648, dtype=float32),\n",
       "             ('simple', (0.889, 35.0)): Array(0.14164306, dtype=float32),\n",
       "             ('simple', (0.889, 40.0)): Array(0.147929, dtype=float32),\n",
       "             ('simple', (0.889, 45.0)): Array(0.1369863, dtype=float32),\n",
       "             ('simple', (0.889, 50.0)): Array(0.15337424, dtype=float32),\n",
       "             ('simple', (1.0, 5.0)): Array(0.10040161, dtype=float32),\n",
       "             ('simple', (1.0, 10.0)): Array(0.11990408, dtype=float32),\n",
       "             ('simple', (1.0, 15.0)): Array(0.14705883, dtype=float32),\n",
       "             ('simple', (1.0, 20.0)): Array(0.1396648, dtype=float32),\n",
       "             ('simple', (1.0, 25.0)): Array(0.13297872, dtype=float32),\n",
       "             ('simple', (1.0, 30.0)): Array(0.14367816, dtype=float32),\n",
       "             ('simple', (1.0, 35.0)): Array(0.14326647, dtype=float32),\n",
       "             ('simple', (1.0, 40.0)): Array(0.15243903, dtype=float32),\n",
       "             ('simple', (1.0, 45.0)): Array(0.14084508, dtype=float32),\n",
       "             ('simple', (1.0, 50.0)): Array(0.16181229, dtype=float32)})"
      ]
     },
     "execution_count": 12,
     "metadata": {},
     "output_type": "execute_result"
    }
   ],
   "source": [
    "results"
   ]
  },
  {
   "cell_type": "code",
   "execution_count": null,
   "metadata": {},
   "outputs": [],
   "source": []
  }
 ],
 "metadata": {
  "kernelspec": {
   "display_name": "mclmc",
   "language": "python",
   "name": "python3"
  },
  "language_info": {
   "codemirror_mode": {
    "name": "ipython",
    "version": 3
   },
   "file_extension": ".py",
   "mimetype": "text/x-python",
   "name": "python",
   "nbconvert_exporter": "python",
   "pygments_lexer": "ipython3",
   "version": "3.11.5"
  }
 },
 "nbformat": 4,
 "nbformat_minor": 2
}
