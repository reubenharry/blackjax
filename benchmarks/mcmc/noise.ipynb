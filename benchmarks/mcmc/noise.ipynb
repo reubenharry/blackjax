{
 "cells": [
  {
   "cell_type": "code",
   "execution_count": 16,
   "metadata": {},
   "outputs": [],
   "source": [
    "from collections import defaultdict\n",
    "import itertools\n",
    "import numpy as np\n",
    "from benchmark import benchmark_chains\n",
    "import blackjax\n",
    "from blackjax.util import run_inference_algorithm\n",
    "from sampling_algorithms import samplers\n",
    "from inference_models import models\n",
    "import jax.numpy as jnp\n",
    "import math\n",
    "import pandas as pd\n",
    "from matplotlib import pyplot as plt\n",
    "from blackjax.adaptation.mclmc_adaptation import MCLMCAdaptationState\n",
    "from benchmark import get_num_latents\n",
    "import jax"
   ]
  },
  {
   "cell_type": "code",
   "execution_count": 17,
   "metadata": {},
   "outputs": [],
   "source": [
    "\n",
    "\n",
    "def run_mclmc(logdensity_fn, num_steps, initial_position, key):\n",
    "    init_key, tune_key, run_key = jax.random.split(key, 3)\n",
    "\n",
    "    initial_state = blackjax.mcmc.mclmc.init(\n",
    "        position=initial_position, logdensity_fn=logdensity_fn, rng_key=init_key\n",
    "    )\n",
    "\n",
    "    kernel = blackjax.mcmc.mclmc.build_kernel(\n",
    "        logdensity_fn=logdensity_fn,\n",
    "        integrator=blackjax.mcmc.integrators.isokinetic_mclachlan,\n",
    "    )\n",
    "\n",
    "    (\n",
    "        blackjax_state_after_tuning,\n",
    "        blackjax_mclmc_sampler_params,\n",
    "    ) = blackjax.mclmc_find_L_and_step_size(\n",
    "        mclmc_kernel=kernel,\n",
    "        num_steps=num_steps,\n",
    "        state=initial_state,\n",
    "        rng_key=tune_key,\n",
    "    )\n",
    "\n",
    "    return blackjax_mclmc_sampler_params,\n",
    "\n",
    "\n",
    "def get_optimal_params(model, sampler):\n",
    "\n",
    "        _, _, params = benchmark_chains(models[model], samplers[sampler], batch=10, n = 5000000, favg=models[model].E_x2, fvar=models[model].Var_x2, only_tune=True)\n",
    "        return params"
   ]
  },
  {
   "cell_type": "code",
   "execution_count": 18,
   "metadata": {},
   "outputs": [],
   "source": [
    "def parameter_exploration(model, batch_size, N):\n",
    "\n",
    "    \n",
    "    results = defaultdict(float)\n",
    "\n",
    "    optimal_L, optimal_step_size = get_optimal_params(model, 'mclmc')\n",
    "    optimal_step_size, optimal_L = optimal_step_size.mean().item(), optimal_L.mean().item()\n",
    "\n",
    "    # print(optimal_step_size, optimal_L, \"\\n\\n\\n\\n\")\n",
    "\n",
    "    # optimal_step_size, optimal_L = 1.005, 16.765137 # TODO: remove\n",
    "\n",
    "    def sampler_mclmc(step_size, L, noise):\n",
    "        def s(logdensity_fn, num_steps, initial_position, key, only_tune=False):\n",
    "            alg = blackjax.mclmc(\n",
    "            logdensity_fn=logdensity_fn,\n",
    "            step_size=step_size,\n",
    "            L=L,\n",
    "            noise=noise\n",
    "            )\n",
    "            _, out, info = run_inference_algorithm(\n",
    "            rng_key=key,\n",
    "            initial_state_or_position=initial_position,\n",
    "            inference_algorithm=alg,\n",
    "            num_steps=num_steps, \n",
    "            transform=lambda x: x.position, \n",
    "            progress_bar=True)\n",
    "            return out, 1, MCLMCAdaptationState(L, step_size)\n",
    "\n",
    "        return s\n",
    "\n",
    "    # for model in [\"simple\"]:\n",
    "        # for step_size, L, noise, N in itertools.product([1.005], [16.765137], [1., 2.], np.linspace(100000.,2000000., 8)):\n",
    "        #     N = N.astype(int)\n",
    "        #     _, bias = benchmark_chains(models[model], \n",
    "        # (step_size, L, noise), batch=batch_size, n=N,favg=models[model].E_x2, fvar=models[model].Var_x2) #not using fvar and favg\n",
    "        #     results[(model, step_size, L, noise, N)] = bias\n",
    "\n",
    "    for step_size, L, noise, num_steps in itertools.product([optimal_step_size], [optimal_L], np.linspace(1e-1, 2, 20), [N]):\n",
    "        _, bias, _ = benchmark_chains(models[model], sampler_mclmc(step_size, L, noise), batch=batch_size, n=num_steps,favg=models[model].E_x2, fvar=models[model].Var_x2) #not using fvar and favg\n",
    "        results[(model, step_size, L, noise, N)] = bias\n",
    "\n",
    "    for step_size, L, noise, num_steps in itertools.product(np.linspace(0.1,2, 10), [optimal_L], [0.0], [N]):\n",
    "        _, bias, _ = benchmark_chains(models[model], sampler_mclmc(step_size, L, noise), batch=batch_size, n=num_steps,favg=models[model].E_x2, fvar=models[model].Var_x2) #not using fvar and favg\n",
    "        results[(model, step_size, L, noise, N)] = bias\n",
    "\n",
    "    return results, optimal_step_size, optimal_L\n",
    "\n"
   ]
  },
  {
   "cell_type": "code",
   "execution_count": 19,
   "metadata": {},
   "outputs": [
    {
     "name": "stdout",
     "output_type": "stream",
     "text": [
      "params MCLMCAdaptationState(L=Array(2.6999369, dtype=float32), step_size=Array(3.1701992, dtype=float32))\n",
      "params MCLMCAdaptationState(L=Array(2.6672904, dtype=float32), step_size=Array(3.4891348, dtype=float32))\n",
      "params MCLMCAdaptationState(L=Array(2.652892, dtype=float32), step_size=Array(3.7058399, dtype=float32))\n",
      "params MCLMCAdaptationState(L=Array(2.665174, dtype=float32), step_size=Array(3.5908537, dtype=float32))\n",
      "params MCLMCAdaptationState(L=Array(2.6692078, dtype=float32), step_size=Array(3.4893663, dtype=float32))\n",
      "params MCLMCAdaptationState(L=Array(2.6660128, dtype=float32), step_size=Array(3.5770564, dtype=float32))\n",
      "params MCLMCAdaptationState(L=Array(2.665293, dtype=float32), step_size=Array(3.313375, dtype=float32))\n",
      "params MCLMCAdaptationState(L=Array(2.667361, dtype=float32), step_size=Array(3.5413756, dtype=float32))\n",
      "params MCLMCAdaptationState(L=Array(2.6546621, dtype=float32), step_size=Array(3.6982584, dtype=float32))\n",
      "params MCLMCAdaptationState(L=Array(2.6687863, dtype=float32), step_size=Array(3.500095, dtype=float32))\n",
      "params MCLMCAdaptationState(L=Array(2.6999369, dtype=float32), step_size=Array(3.1701992, dtype=float32))\n",
      "params MCLMCAdaptationState(L=Array(2.6672904, dtype=float32), step_size=Array(3.4891348, dtype=float32))\n",
      "params MCLMCAdaptationState(L=Array(2.652892, dtype=float32), step_size=Array(3.7058399, dtype=float32))\n",
      "params MCLMCAdaptationState(L=Array(2.665174, dtype=float32), step_size=Array(3.5908537, dtype=float32))\n",
      "params MCLMCAdaptationState(L=Array(2.6692078, dtype=float32), step_size=Array(3.4893663, dtype=float32))\n",
      "params MCLMCAdaptationState(L=Array(2.6660128, dtype=float32), step_size=Array(3.5770564, dtype=float32))\n",
      "params MCLMCAdaptationState(L=Array(2.665293, dtype=float32), step_size=Array(3.313375, dtype=float32))\n",
      "params MCLMCAdaptationState(L=Array(2.667361, dtype=float32), step_size=Array(3.5413756, dtype=float32))\n",
      "params MCLMCAdaptationState(L=Array(2.6546621, dtype=float32), step_size=Array(3.6982584, dtype=float32))\n",
      "params MCLMCAdaptationState(L=Array(2.6687863, dtype=float32), step_size=Array(3.500095, dtype=float32))\n",
      "\n",
      "\n",
      "\n",
      "\n",
      "AVG NUM STEPS PER TRAJ 1.0\n",
      "crossing 10 20.0 5.0\n",
      "True mean [0. 0. 0. 0. 0. 0. 0. 0. 0. 0.]\n",
      "True std [1. 1. 1. 1. 1. 1. 1. 1. 1. 1.]\n",
      "Empirical mean [ 0.03861958 -0.05548905 -0.00826901 -0.02206233  0.17645687  0.02764223\n",
      "  0.00029398  0.18411367  0.0536089   0.10240313]\n",
      "Empirical std [0.93060327 1.021306   0.81636    1.0185155  1.1021527  1.098532\n",
      " 0.89244425 1.0077324  0.9687415  0.9762795 ]\n"
     ]
    },
    {
     "data": {
      "text/html": [
       "\n",
       "<style>\n",
       "    /* Turns off some styling */\n",
       "    progress {\n",
       "        /* gets rid of default border in Firefox and Opera. */\n",
       "        border: none;\n",
       "        /* Needs to be in here for Safari polyfill so background images work as expected. */\n",
       "        background-size: auto;\n",
       "    }\n",
       "    progress:not([value]), progress:not([value])::-webkit-progress-bar {\n",
       "        background: repeating-linear-gradient(45deg, #7e7e7e, #7e7e7e 10px, #5c5c5c 10px, #5c5c5c 20px);\n",
       "    }\n",
       "    .progress-bar-interrupted, .progress-bar-interrupted::-webkit-progress-bar {\n",
       "        background: #F44336;\n",
       "    }\n",
       "</style>\n"
      ],
      "text/plain": [
       "<IPython.core.display.HTML object>"
      ]
     },
     "metadata": {},
     "output_type": "display_data"
    },
    {
     "data": {
      "text/html": [
       "\n",
       "    <div>\n",
       "      <progress value='1000000' class='' max='1000000' style='width:300px; height:20px; vertical-align: middle;'></progress>\n",
       "      100.00% [1000000/1000000 00:00&lt;?]\n",
       "    </div>\n",
       "    "
      ],
      "text/plain": [
       "<IPython.core.display.HTML object>"
      ]
     },
     "metadata": {},
     "output_type": "display_data"
    },
    {
     "name": "stdout",
     "output_type": "stream",
     "text": [
      "\n",
      "\n",
      "\n",
      "\n",
      "\n",
      "AVG NUM STEPS PER TRAJ 1.0\n",
      "crossing 148 296.0 0.33783785\n",
      "True mean [0. 0. 0. 0. 0. 0. 0. 0. 0. 0.]\n",
      "True std [1. 1. 1. 1. 1. 1. 1. 1. 1. 1.]\n",
      "Empirical mean [-2.2809085e-04  3.0484589e-04 -7.7716890e-05 -1.0580686e-04\n",
      "  7.9490732e-05  6.1487983e-04  1.6509840e-04 -1.1962621e-04\n",
      "  7.3107862e-04  1.3235038e-04]\n",
      "Empirical std [0.99061847 0.99110883 0.99103516 0.9914405  0.99122113 0.99153095\n",
      " 0.99088037 0.9909325  0.99062836 0.99138343]\n"
     ]
    },
    {
     "data": {
      "text/html": [
       "\n",
       "<style>\n",
       "    /* Turns off some styling */\n",
       "    progress {\n",
       "        /* gets rid of default border in Firefox and Opera. */\n",
       "        border: none;\n",
       "        /* Needs to be in here for Safari polyfill so background images work as expected. */\n",
       "        background-size: auto;\n",
       "    }\n",
       "    progress:not([value]), progress:not([value])::-webkit-progress-bar {\n",
       "        background: repeating-linear-gradient(45deg, #7e7e7e, #7e7e7e 10px, #5c5c5c 10px, #5c5c5c 20px);\n",
       "    }\n",
       "    .progress-bar-interrupted, .progress-bar-interrupted::-webkit-progress-bar {\n",
       "        background: #F44336;\n",
       "    }\n",
       "</style>\n"
      ],
      "text/plain": [
       "<IPython.core.display.HTML object>"
      ]
     },
     "metadata": {},
     "output_type": "display_data"
    },
    {
     "data": {
      "text/html": [
       "\n",
       "    <div>\n",
       "      <progress value='1000000' class='' max='1000000' style='width:300px; height:20px; vertical-align: middle;'></progress>\n",
       "      100.00% [1000000/1000000 00:00&lt;?]\n",
       "    </div>\n",
       "    "
      ],
      "text/plain": [
       "<IPython.core.display.HTML object>"
      ]
     },
     "metadata": {},
     "output_type": "display_data"
    },
    {
     "name": "stdout",
     "output_type": "stream",
     "text": [
      "\n",
      "\n",
      "\n",
      "\n",
      "\n",
      "AVG NUM STEPS PER TRAJ 1.0\n",
      "crossing 149 298.0 0.33557048\n",
      "True mean [0. 0. 0. 0. 0. 0. 0. 0. 0. 0.]\n",
      "True std [1. 1. 1. 1. 1. 1. 1. 1. 1. 1.]\n",
      "Empirical mean [-2.2562906e-04  3.6186047e-04 -9.9944482e-05 -8.3058236e-05\n",
      "  9.0861278e-05  6.1669800e-04  1.5625553e-04 -5.6738263e-05\n",
      "  7.0496800e-04  9.5432901e-05]\n",
      "Empirical std [0.99242574 0.99287957 0.9928617  0.9932199  0.99303794 0.99335945\n",
      " 0.9927753  0.9927596  0.9924185  0.99320906]\n"
     ]
    },
    {
     "data": {
      "text/html": [
       "\n",
       "<style>\n",
       "    /* Turns off some styling */\n",
       "    progress {\n",
       "        /* gets rid of default border in Firefox and Opera. */\n",
       "        border: none;\n",
       "        /* Needs to be in here for Safari polyfill so background images work as expected. */\n",
       "        background-size: auto;\n",
       "    }\n",
       "    progress:not([value]), progress:not([value])::-webkit-progress-bar {\n",
       "        background: repeating-linear-gradient(45deg, #7e7e7e, #7e7e7e 10px, #5c5c5c 10px, #5c5c5c 20px);\n",
       "    }\n",
       "    .progress-bar-interrupted, .progress-bar-interrupted::-webkit-progress-bar {\n",
       "        background: #F44336;\n",
       "    }\n",
       "</style>\n"
      ],
      "text/plain": [
       "<IPython.core.display.HTML object>"
      ]
     },
     "metadata": {},
     "output_type": "display_data"
    },
    {
     "data": {
      "text/html": [
       "\n",
       "    <div>\n",
       "      <progress value='1000000' class='' max='1000000' style='width:300px; height:20px; vertical-align: middle;'></progress>\n",
       "      100.00% [1000000/1000000 00:00&lt;?]\n",
       "    </div>\n",
       "    "
      ],
      "text/plain": [
       "<IPython.core.display.HTML object>"
      ]
     },
     "metadata": {},
     "output_type": "display_data"
    },
    {
     "name": "stdout",
     "output_type": "stream",
     "text": [
      "\n",
      "\n",
      "\n",
      "\n",
      "\n",
      "AVG NUM STEPS PER TRAJ 1.0\n",
      "crossing 151 302.0 0.33112583\n",
      "True mean [0. 0. 0. 0. 0. 0. 0. 0. 0. 0.]\n",
      "True std [1. 1. 1. 1. 1. 1. 1. 1. 1. 1.]\n",
      "Empirical mean [-2.2926895e-04  4.2248974e-04 -1.2642758e-04 -6.1120707e-05\n",
      "  9.6072501e-05  6.1848556e-04  1.4829570e-04  2.0829239e-06\n",
      "  6.8594422e-04  5.3149193e-05]\n",
      "Empirical std [0.9954401  0.99585265 0.99587554 0.9961925  0.99605787 0.9963839\n",
      " 0.9958715  0.9958009  0.9954182  0.99622667]\n"
     ]
    },
    {
     "data": {
      "text/html": [
       "\n",
       "<style>\n",
       "    /* Turns off some styling */\n",
       "    progress {\n",
       "        /* gets rid of default border in Firefox and Opera. */\n",
       "        border: none;\n",
       "        /* Needs to be in here for Safari polyfill so background images work as expected. */\n",
       "        background-size: auto;\n",
       "    }\n",
       "    progress:not([value]), progress:not([value])::-webkit-progress-bar {\n",
       "        background: repeating-linear-gradient(45deg, #7e7e7e, #7e7e7e 10px, #5c5c5c 10px, #5c5c5c 20px);\n",
       "    }\n",
       "    .progress-bar-interrupted, .progress-bar-interrupted::-webkit-progress-bar {\n",
       "        background: #F44336;\n",
       "    }\n",
       "</style>\n"
      ],
      "text/plain": [
       "<IPython.core.display.HTML object>"
      ]
     },
     "metadata": {},
     "output_type": "display_data"
    },
    {
     "data": {
      "text/html": [
       "\n",
       "    <div>\n",
       "      <progress value='1000000' class='' max='1000000' style='width:300px; height:20px; vertical-align: middle;'></progress>\n",
       "      100.00% [1000000/1000000 00:00&lt;?]\n",
       "    </div>\n",
       "    "
      ],
      "text/plain": [
       "<IPython.core.display.HTML object>"
      ]
     },
     "metadata": {},
     "output_type": "display_data"
    },
    {
     "name": "stdout",
     "output_type": "stream",
     "text": [
      "\n",
      "\n",
      "\n",
      "\n",
      "\n",
      "AVG NUM STEPS PER TRAJ 1.0\n",
      "crossing 154 308.0 0.32467532\n",
      "True mean [0. 0. 0. 0. 0. 0. 0. 0. 0. 0.]\n",
      "True std [1. 1. 1. 1. 1. 1. 1. 1. 1. 1.]\n",
      "Empirical mean [-2.3784080e-04  4.8322891e-04 -1.5646515e-04 -3.9706043e-05\n",
      "  9.4950010e-05  6.2167092e-04  1.4194037e-04  5.4016706e-05\n",
      "  6.7306048e-04  6.2448976e-06]\n",
      "Empirical std [0.99963623 1.0000049  1.0000554  1.0003341  1.0002533  1.0005776\n",
      " 1.0001384  1.000032   0.9996033  1.0004121 ]\n"
     ]
    },
    {
     "data": {
      "text/html": [
       "\n",
       "<style>\n",
       "    /* Turns off some styling */\n",
       "    progress {\n",
       "        /* gets rid of default border in Firefox and Opera. */\n",
       "        border: none;\n",
       "        /* Needs to be in here for Safari polyfill so background images work as expected. */\n",
       "        background-size: auto;\n",
       "    }\n",
       "    progress:not([value]), progress:not([value])::-webkit-progress-bar {\n",
       "        background: repeating-linear-gradient(45deg, #7e7e7e, #7e7e7e 10px, #5c5c5c 10px, #5c5c5c 20px);\n",
       "    }\n",
       "    .progress-bar-interrupted, .progress-bar-interrupted::-webkit-progress-bar {\n",
       "        background: #F44336;\n",
       "    }\n",
       "</style>\n"
      ],
      "text/plain": [
       "<IPython.core.display.HTML object>"
      ]
     },
     "metadata": {},
     "output_type": "display_data"
    },
    {
     "data": {
      "text/html": [
       "\n",
       "    <div>\n",
       "      <progress value='1000000' class='' max='1000000' style='width:300px; height:20px; vertical-align: middle;'></progress>\n",
       "      100.00% [1000000/1000000 00:00&lt;?]\n",
       "    </div>\n",
       "    "
      ],
      "text/plain": [
       "<IPython.core.display.HTML object>"
      ]
     },
     "metadata": {},
     "output_type": "display_data"
    },
    {
     "name": "stdout",
     "output_type": "stream",
     "text": [
      "\n",
      "\n",
      "\n",
      "\n",
      "\n",
      "AVG NUM STEPS PER TRAJ 1.0\n",
      "crossing 157 314.0 0.31847134\n",
      "True mean [0. 0. 0. 0. 0. 0. 0. 0. 0. 0.]\n",
      "True std [1. 1. 1. 1. 1. 1. 1. 1. 1. 1.]\n",
      "Empirical mean [-2.5008994e-04  5.4125447e-04 -1.8853255e-04 -1.8839228e-05\n",
      "  8.8082241e-05  6.2665774e-04  1.3692629e-04  9.7793156e-05\n",
      "  6.6455023e-04 -4.3632070e-05]\n",
      "Empirical std [1.00498   1.0053039 1.0053728 1.0056138 1.0055882 1.0059049 1.0055387\n",
      " 1.0054162 1.0049393 1.005733 ]\n"
     ]
    },
    {
     "data": {
      "text/html": [
       "\n",
       "<style>\n",
       "    /* Turns off some styling */\n",
       "    progress {\n",
       "        /* gets rid of default border in Firefox and Opera. */\n",
       "        border: none;\n",
       "        /* Needs to be in here for Safari polyfill so background images work as expected. */\n",
       "        background-size: auto;\n",
       "    }\n",
       "    progress:not([value]), progress:not([value])::-webkit-progress-bar {\n",
       "        background: repeating-linear-gradient(45deg, #7e7e7e, #7e7e7e 10px, #5c5c5c 10px, #5c5c5c 20px);\n",
       "    }\n",
       "    .progress-bar-interrupted, .progress-bar-interrupted::-webkit-progress-bar {\n",
       "        background: #F44336;\n",
       "    }\n",
       "</style>\n"
      ],
      "text/plain": [
       "<IPython.core.display.HTML object>"
      ]
     },
     "metadata": {},
     "output_type": "display_data"
    },
    {
     "data": {
      "text/html": [
       "\n",
       "    <div>\n",
       "      <progress value='1000000' class='' max='1000000' style='width:300px; height:20px; vertical-align: middle;'></progress>\n",
       "      100.00% [1000000/1000000 00:00&lt;?]\n",
       "    </div>\n",
       "    "
      ],
      "text/plain": [
       "<IPython.core.display.HTML object>"
      ]
     },
     "metadata": {},
     "output_type": "display_data"
    },
    {
     "name": "stdout",
     "output_type": "stream",
     "text": [
      "\n",
      "\n",
      "\n",
      "\n",
      "\n",
      "AVG NUM STEPS PER TRAJ 1.0\n",
      "crossing 163 326.0 0.30674848\n",
      "True mean [0. 0. 0. 0. 0. 0. 0. 0. 0. 0.]\n",
      "True std [1. 1. 1. 1. 1. 1. 1. 1. 1. 1.]\n",
      "Empirical mean [-2.6506712e-04  5.9471361e-04 -2.2081334e-04  1.4400116e-06\n",
      "  7.5903874e-05  6.3242868e-04  1.3185506e-04  1.3396530e-04\n",
      "  6.5856415e-04 -9.4400340e-05]\n",
      "Empirical std [1.0114306 1.0117072 1.0117902 1.0119933 1.0120192 1.0123237 1.0120299\n",
      " 1.0119083 1.0113823 1.0121491]\n"
     ]
    },
    {
     "data": {
      "text/html": [
       "\n",
       "<style>\n",
       "    /* Turns off some styling */\n",
       "    progress {\n",
       "        /* gets rid of default border in Firefox and Opera. */\n",
       "        border: none;\n",
       "        /* Needs to be in here for Safari polyfill so background images work as expected. */\n",
       "        background-size: auto;\n",
       "    }\n",
       "    progress:not([value]), progress:not([value])::-webkit-progress-bar {\n",
       "        background: repeating-linear-gradient(45deg, #7e7e7e, #7e7e7e 10px, #5c5c5c 10px, #5c5c5c 20px);\n",
       "    }\n",
       "    .progress-bar-interrupted, .progress-bar-interrupted::-webkit-progress-bar {\n",
       "        background: #F44336;\n",
       "    }\n",
       "</style>\n"
      ],
      "text/plain": [
       "<IPython.core.display.HTML object>"
      ]
     },
     "metadata": {},
     "output_type": "display_data"
    },
    {
     "data": {
      "text/html": [
       "\n",
       "    <div>\n",
       "      <progress value='1000000' class='' max='1000000' style='width:300px; height:20px; vertical-align: middle;'></progress>\n",
       "      100.00% [1000000/1000000 00:00&lt;?]\n",
       "    </div>\n",
       "    "
      ],
      "text/plain": [
       "<IPython.core.display.HTML object>"
      ]
     },
     "metadata": {},
     "output_type": "display_data"
    },
    {
     "name": "stdout",
     "output_type": "stream",
     "text": [
      "\n",
      "\n",
      "\n",
      "\n",
      "\n",
      "AVG NUM STEPS PER TRAJ 1.0\n",
      "crossing 178 356.0 0.28089887\n",
      "True mean [0. 0. 0. 0. 0. 0. 0. 0. 0. 0.]\n",
      "True std [1. 1. 1. 1. 1. 1. 1. 1. 1. 1.]\n",
      "Empirical mean [-2.8222002e-04  6.4304279e-04 -2.5186618e-04  2.1530768e-05\n",
      "  5.8431477e-05  6.3739822e-04  1.2485287e-04  1.6447324e-04\n",
      "  6.5318955e-04 -1.4430887e-04]\n",
      "Empirical std [1.0189401 1.0191667 1.0192627 1.0194286 1.019498  1.0197868 1.0195647\n",
      " 1.0194566 1.0188819 1.0196148]\n"
     ]
    },
    {
     "data": {
      "text/html": [
       "\n",
       "<style>\n",
       "    /* Turns off some styling */\n",
       "    progress {\n",
       "        /* gets rid of default border in Firefox and Opera. */\n",
       "        border: none;\n",
       "        /* Needs to be in here for Safari polyfill so background images work as expected. */\n",
       "        background-size: auto;\n",
       "    }\n",
       "    progress:not([value]), progress:not([value])::-webkit-progress-bar {\n",
       "        background: repeating-linear-gradient(45deg, #7e7e7e, #7e7e7e 10px, #5c5c5c 10px, #5c5c5c 20px);\n",
       "    }\n",
       "    .progress-bar-interrupted, .progress-bar-interrupted::-webkit-progress-bar {\n",
       "        background: #F44336;\n",
       "    }\n",
       "</style>\n"
      ],
      "text/plain": [
       "<IPython.core.display.HTML object>"
      ]
     },
     "metadata": {},
     "output_type": "display_data"
    },
    {
     "data": {
      "text/html": [
       "\n",
       "    <div>\n",
       "      <progress value='1000000' class='' max='1000000' style='width:300px; height:20px; vertical-align: middle;'></progress>\n",
       "      100.00% [1000000/1000000 00:00&lt;?]\n",
       "    </div>\n",
       "    "
      ],
      "text/plain": [
       "<IPython.core.display.HTML object>"
      ]
     },
     "metadata": {},
     "output_type": "display_data"
    },
    {
     "name": "stdout",
     "output_type": "stream",
     "text": [
      "\n",
      "\n",
      "\n",
      "\n",
      "\n",
      "AVG NUM STEPS PER TRAJ 1.0\n",
      "crossing 224 448.0 0.22321428\n",
      "True mean [0. 0. 0. 0. 0. 0. 0. 0. 0. 0.]\n",
      "True std [1. 1. 1. 1. 1. 1. 1. 1. 1. 1.]\n",
      "Empirical mean [-3.0126274e-04  6.8681961e-04 -2.8108418e-04  4.2145246e-05\n",
      "  3.5715020e-05  6.4036541e-04  1.1442246e-04  1.9193867e-04\n",
      "  6.4643548e-04 -1.9253191e-04]\n",
      "Empirical std [1.0274543 1.02763   1.0277383 1.027869  1.0279726 1.0282443 1.0280924\n",
      " 1.0280058 1.0273831 1.0280797]\n"
     ]
    },
    {
     "data": {
      "text/html": [
       "\n",
       "<style>\n",
       "    /* Turns off some styling */\n",
       "    progress {\n",
       "        /* gets rid of default border in Firefox and Opera. */\n",
       "        border: none;\n",
       "        /* Needs to be in here for Safari polyfill so background images work as expected. */\n",
       "        background-size: auto;\n",
       "    }\n",
       "    progress:not([value]), progress:not([value])::-webkit-progress-bar {\n",
       "        background: repeating-linear-gradient(45deg, #7e7e7e, #7e7e7e 10px, #5c5c5c 10px, #5c5c5c 20px);\n",
       "    }\n",
       "    .progress-bar-interrupted, .progress-bar-interrupted::-webkit-progress-bar {\n",
       "        background: #F44336;\n",
       "    }\n",
       "</style>\n"
      ],
      "text/plain": [
       "<IPython.core.display.HTML object>"
      ]
     },
     "metadata": {},
     "output_type": "display_data"
    },
    {
     "data": {
      "text/html": [
       "\n",
       "    <div>\n",
       "      <progress value='1000000' class='' max='1000000' style='width:300px; height:20px; vertical-align: middle;'></progress>\n",
       "      100.00% [1000000/1000000 00:00&lt;?]\n",
       "    </div>\n",
       "    "
      ],
      "text/plain": [
       "<IPython.core.display.HTML object>"
      ]
     },
     "metadata": {},
     "output_type": "display_data"
    },
    {
     "name": "stdout",
     "output_type": "stream",
     "text": [
      "\n",
      "\n",
      "\n",
      "\n",
      "\n",
      "AVG NUM STEPS PER TRAJ 1.0\n",
      "crossing 281 562.0 0.17793594\n",
      "True mean [0. 0. 0. 0. 0. 0. 0. 0. 0. 0.]\n",
      "True std [1. 1. 1. 1. 1. 1. 1. 1. 1. 1.]\n",
      "Empirical mean [-3.2180999e-04  7.2709023e-04 -3.0850625e-04  6.3835352e-05\n",
      "  8.3313234e-06  6.4079091e-04  9.9776058e-05  2.1894273e-04\n",
      "  6.3651439e-04 -2.3918808e-04]\n",
      "Empirical std [1.036916  1.037042  1.0371599 1.0372598 1.0373884 1.0376425 1.0375583\n",
      " 1.0374982 1.0368284 1.0374893]\n"
     ]
    },
    {
     "data": {
      "text/html": [
       "\n",
       "<style>\n",
       "    /* Turns off some styling */\n",
       "    progress {\n",
       "        /* gets rid of default border in Firefox and Opera. */\n",
       "        border: none;\n",
       "        /* Needs to be in here for Safari polyfill so background images work as expected. */\n",
       "        background-size: auto;\n",
       "    }\n",
       "    progress:not([value]), progress:not([value])::-webkit-progress-bar {\n",
       "        background: repeating-linear-gradient(45deg, #7e7e7e, #7e7e7e 10px, #5c5c5c 10px, #5c5c5c 20px);\n",
       "    }\n",
       "    .progress-bar-interrupted, .progress-bar-interrupted::-webkit-progress-bar {\n",
       "        background: #F44336;\n",
       "    }\n",
       "</style>\n"
      ],
      "text/plain": [
       "<IPython.core.display.HTML object>"
      ]
     },
     "metadata": {},
     "output_type": "display_data"
    },
    {
     "data": {
      "text/html": [
       "\n",
       "    <div>\n",
       "      <progress value='1000000' class='' max='1000000' style='width:300px; height:20px; vertical-align: middle;'></progress>\n",
       "      100.00% [1000000/1000000 00:00&lt;?]\n",
       "    </div>\n",
       "    "
      ],
      "text/plain": [
       "<IPython.core.display.HTML object>"
      ]
     },
     "metadata": {},
     "output_type": "display_data"
    },
    {
     "name": "stdout",
     "output_type": "stream",
     "text": [
      "\n",
      "\n",
      "\n",
      "\n",
      "\n",
      "AVG NUM STEPS PER TRAJ 1.0\n",
      "crossing 470 940.0 0.10638298\n",
      "True mean [0. 0. 0. 0. 0. 0. 0. 0. 0. 0.]\n",
      "True std [1. 1. 1. 1. 1. 1. 1. 1. 1. 1.]\n",
      "Empirical mean [-3.4318614e-04  7.6477963e-04 -3.3451649e-04  8.6751206e-05\n",
      " -2.2649891e-05  6.3862355e-04  8.0728911e-05  2.4742106e-04\n",
      "  6.2207266e-04 -2.8494548e-04]\n",
      "Empirical std [1.0472652 1.0473466 1.0474684 1.047543  1.0476888 1.047926  1.0479066\n",
      " 1.0478748 1.0471592 1.0477858]\n"
     ]
    },
    {
     "data": {
      "text/html": [
       "\n",
       "<style>\n",
       "    /* Turns off some styling */\n",
       "    progress {\n",
       "        /* gets rid of default border in Firefox and Opera. */\n",
       "        border: none;\n",
       "        /* Needs to be in here for Safari polyfill so background images work as expected. */\n",
       "        background-size: auto;\n",
       "    }\n",
       "    progress:not([value]), progress:not([value])::-webkit-progress-bar {\n",
       "        background: repeating-linear-gradient(45deg, #7e7e7e, #7e7e7e 10px, #5c5c5c 10px, #5c5c5c 20px);\n",
       "    }\n",
       "    .progress-bar-interrupted, .progress-bar-interrupted::-webkit-progress-bar {\n",
       "        background: #F44336;\n",
       "    }\n",
       "</style>\n"
      ],
      "text/plain": [
       "<IPython.core.display.HTML object>"
      ]
     },
     "metadata": {},
     "output_type": "display_data"
    },
    {
     "data": {
      "text/html": [
       "\n",
       "    <div>\n",
       "      <progress value='1000000' class='' max='1000000' style='width:300px; height:20px; vertical-align: middle;'></progress>\n",
       "      100.00% [1000000/1000000 00:00&lt;?]\n",
       "    </div>\n",
       "    "
      ],
      "text/plain": [
       "<IPython.core.display.HTML object>"
      ]
     },
     "metadata": {},
     "output_type": "display_data"
    },
    {
     "name": "stdout",
     "output_type": "stream",
     "text": [
      "\n",
      "\n",
      "\n",
      "\n",
      "\n",
      "AVG NUM STEPS PER TRAJ 1.0\n",
      "crossing 945 1890.0 0.052910052\n",
      "True mean [0. 0. 0. 0. 0. 0. 0. 0. 0. 0.]\n",
      "True std [1. 1. 1. 1. 1. 1. 1. 1. 1. 1.]\n",
      "Empirical mean [-3.64538137e-04  8.00532696e-04 -3.59663187e-04  1.10750894e-04\n",
      " -5.60006229e-05  6.34049589e-04  5.75900631e-05  2.78366613e-04\n",
      "  6.02350687e-04 -3.30633658e-04]\n",
      "Empirical std [1.0584413 1.058485  1.0586032 1.0586587 1.058816  1.0590369 1.05908\n",
      " 1.0590757 1.0583155 1.0589097]\n"
     ]
    },
    {
     "data": {
      "text/html": [
       "\n",
       "<style>\n",
       "    /* Turns off some styling */\n",
       "    progress {\n",
       "        /* gets rid of default border in Firefox and Opera. */\n",
       "        border: none;\n",
       "        /* Needs to be in here for Safari polyfill so background images work as expected. */\n",
       "        background-size: auto;\n",
       "    }\n",
       "    progress:not([value]), progress:not([value])::-webkit-progress-bar {\n",
       "        background: repeating-linear-gradient(45deg, #7e7e7e, #7e7e7e 10px, #5c5c5c 10px, #5c5c5c 20px);\n",
       "    }\n",
       "    .progress-bar-interrupted, .progress-bar-interrupted::-webkit-progress-bar {\n",
       "        background: #F44336;\n",
       "    }\n",
       "</style>\n"
      ],
      "text/plain": [
       "<IPython.core.display.HTML object>"
      ]
     },
     "metadata": {},
     "output_type": "display_data"
    },
    {
     "data": {
      "text/html": [
       "\n",
       "    <div>\n",
       "      <progress value='1000000' class='' max='1000000' style='width:300px; height:20px; vertical-align: middle;'></progress>\n",
       "      100.00% [1000000/1000000 00:00&lt;?]\n",
       "    </div>\n",
       "    "
      ],
      "text/plain": [
       "<IPython.core.display.HTML object>"
      ]
     },
     "metadata": {},
     "output_type": "display_data"
    },
    {
     "name": "stdout",
     "output_type": "stream",
     "text": [
      "\n",
      "\n",
      "\n",
      "\n",
      "\n",
      "AVG NUM STEPS PER TRAJ 1.0\n",
      "crossing 1000000 2000000.0 5e-05\n",
      "True mean [0. 0. 0. 0. 0. 0. 0. 0. 0. 0.]\n",
      "True std [1. 1. 1. 1. 1. 1. 1. 1. 1. 1.]\n",
      "Empirical mean [-3.8500395e-04  8.3477923e-04 -3.8453561e-04  1.3565633e-04\n",
      " -9.0572903e-05  6.2734220e-04  3.1082305e-05  3.1189623e-04\n",
      "  5.7721371e-04 -3.7690924e-04]\n",
      "Empirical std [1.0703835 1.0703982 1.0705043 1.0705465 1.0707113 1.0709165 1.0710202\n",
      " 1.0710412 1.0702384 1.0708007]\n"
     ]
    },
    {
     "data": {
      "text/html": [
       "\n",
       "<style>\n",
       "    /* Turns off some styling */\n",
       "    progress {\n",
       "        /* gets rid of default border in Firefox and Opera. */\n",
       "        border: none;\n",
       "        /* Needs to be in here for Safari polyfill so background images work as expected. */\n",
       "        background-size: auto;\n",
       "    }\n",
       "    progress:not([value]), progress:not([value])::-webkit-progress-bar {\n",
       "        background: repeating-linear-gradient(45deg, #7e7e7e, #7e7e7e 10px, #5c5c5c 10px, #5c5c5c 20px);\n",
       "    }\n",
       "    .progress-bar-interrupted, .progress-bar-interrupted::-webkit-progress-bar {\n",
       "        background: #F44336;\n",
       "    }\n",
       "</style>\n"
      ],
      "text/plain": [
       "<IPython.core.display.HTML object>"
      ]
     },
     "metadata": {},
     "output_type": "display_data"
    },
    {
     "data": {
      "text/html": [
       "\n",
       "    <div>\n",
       "      <progress value='1000000' class='' max='1000000' style='width:300px; height:20px; vertical-align: middle;'></progress>\n",
       "      100.00% [1000000/1000000 00:00&lt;?]\n",
       "    </div>\n",
       "    "
      ],
      "text/plain": [
       "<IPython.core.display.HTML object>"
      ]
     },
     "metadata": {},
     "output_type": "display_data"
    },
    {
     "name": "stdout",
     "output_type": "stream",
     "text": [
      "\n",
      "\n",
      "\n",
      "\n",
      "\n",
      "AVG NUM STEPS PER TRAJ 1.0\n",
      "crossing 1000000 2000000.0 5e-05\n",
      "True mean [0. 0. 0. 0. 0. 0. 0. 0. 0. 0.]\n",
      "True std [1. 1. 1. 1. 1. 1. 1. 1. 1. 1.]\n",
      "Empirical mean [-4.0390342e-04  8.6779433e-04 -4.0964625e-04  1.6138880e-04\n",
      " -1.2535001e-04  6.1883562e-04  2.1404908e-06  3.4755337e-04\n",
      "  5.4703717e-04 -4.2409307e-04]\n",
      "Empirical std [1.0830323 1.0830272 1.0831132 1.0831472 1.083316  1.0835065 1.08367\n",
      " 1.083713  1.0828683 1.0833989]\n"
     ]
    },
    {
     "data": {
      "text/html": [
       "\n",
       "<style>\n",
       "    /* Turns off some styling */\n",
       "    progress {\n",
       "        /* gets rid of default border in Firefox and Opera. */\n",
       "        border: none;\n",
       "        /* Needs to be in here for Safari polyfill so background images work as expected. */\n",
       "        background-size: auto;\n",
       "    }\n",
       "    progress:not([value]), progress:not([value])::-webkit-progress-bar {\n",
       "        background: repeating-linear-gradient(45deg, #7e7e7e, #7e7e7e 10px, #5c5c5c 10px, #5c5c5c 20px);\n",
       "    }\n",
       "    .progress-bar-interrupted, .progress-bar-interrupted::-webkit-progress-bar {\n",
       "        background: #F44336;\n",
       "    }\n",
       "</style>\n"
      ],
      "text/plain": [
       "<IPython.core.display.HTML object>"
      ]
     },
     "metadata": {},
     "output_type": "display_data"
    },
    {
     "data": {
      "text/html": [
       "\n",
       "    <div>\n",
       "      <progress value='1000000' class='' max='1000000' style='width:300px; height:20px; vertical-align: middle;'></progress>\n",
       "      100.00% [1000000/1000000 00:00&lt;?]\n",
       "    </div>\n",
       "    "
      ],
      "text/plain": [
       "<IPython.core.display.HTML object>"
      ]
     },
     "metadata": {},
     "output_type": "display_data"
    },
    {
     "name": "stdout",
     "output_type": "stream",
     "text": [
      "\n",
      "\n",
      "\n",
      "\n",
      "\n",
      "AVG NUM STEPS PER TRAJ 1.0\n",
      "crossing 1000000 2000000.0 5e-05\n",
      "True mean [0. 0. 0. 0. 0. 0. 0. 0. 0. 0.]\n",
      "True std [1. 1. 1. 1. 1. 1. 1. 1. 1. 1.]\n",
      "Empirical mean [-4.2083330e-04  8.9970324e-04 -4.3533472e-04  1.8799276e-04\n",
      " -1.5944555e-04  6.0892757e-04 -2.8329041e-05  3.8463168e-04\n",
      "  5.1249668e-04 -4.7219484e-04]\n",
      "Empirical std [1.096329  1.0963134 1.0963717 1.0964018 1.0965726 1.0967482 1.096972\n",
      " 1.0970331 1.096148  1.0966465]\n"
     ]
    },
    {
     "data": {
      "text/html": [
       "\n",
       "<style>\n",
       "    /* Turns off some styling */\n",
       "    progress {\n",
       "        /* gets rid of default border in Firefox and Opera. */\n",
       "        border: none;\n",
       "        /* Needs to be in here for Safari polyfill so background images work as expected. */\n",
       "        background-size: auto;\n",
       "    }\n",
       "    progress:not([value]), progress:not([value])::-webkit-progress-bar {\n",
       "        background: repeating-linear-gradient(45deg, #7e7e7e, #7e7e7e 10px, #5c5c5c 10px, #5c5c5c 20px);\n",
       "    }\n",
       "    .progress-bar-interrupted, .progress-bar-interrupted::-webkit-progress-bar {\n",
       "        background: #F44336;\n",
       "    }\n",
       "</style>\n"
      ],
      "text/plain": [
       "<IPython.core.display.HTML object>"
      ]
     },
     "metadata": {},
     "output_type": "display_data"
    },
    {
     "data": {
      "text/html": [
       "\n",
       "    <div>\n",
       "      <progress value='1000000' class='' max='1000000' style='width:300px; height:20px; vertical-align: middle;'></progress>\n",
       "      100.00% [1000000/1000000 00:00&lt;?]\n",
       "    </div>\n",
       "    "
      ],
      "text/plain": [
       "<IPython.core.display.HTML object>"
      ]
     },
     "metadata": {},
     "output_type": "display_data"
    },
    {
     "name": "stdout",
     "output_type": "stream",
     "text": [
      "\n",
      "\n",
      "\n",
      "\n",
      "\n",
      "AVG NUM STEPS PER TRAJ 1.0\n",
      "crossing 1000000 2000000.0 5e-05\n",
      "True mean [0. 0. 0. 0. 0. 0. 0. 0. 0. 0.]\n",
      "True std [1. 1. 1. 1. 1. 1. 1. 1. 1. 1.]\n",
      "Empirical mean [-4.3565567e-04  9.3052303e-04 -4.6176222e-04  2.1557276e-04\n",
      " -1.9214083e-04  5.9803686e-04 -5.9601087e-05  4.2241171e-04\n",
      "  4.7437724e-04 -5.2102021e-04]\n",
      "Empirical std [1.1102171 1.1101989 1.1102238 1.1102527 1.1104246 1.1105852 1.1108698\n",
      " 1.1109453 1.1100202 1.1104865]\n"
     ]
    },
    {
     "data": {
      "text/html": [
       "\n",
       "<style>\n",
       "    /* Turns off some styling */\n",
       "    progress {\n",
       "        /* gets rid of default border in Firefox and Opera. */\n",
       "        border: none;\n",
       "        /* Needs to be in here for Safari polyfill so background images work as expected. */\n",
       "        background-size: auto;\n",
       "    }\n",
       "    progress:not([value]), progress:not([value])::-webkit-progress-bar {\n",
       "        background: repeating-linear-gradient(45deg, #7e7e7e, #7e7e7e 10px, #5c5c5c 10px, #5c5c5c 20px);\n",
       "    }\n",
       "    .progress-bar-interrupted, .progress-bar-interrupted::-webkit-progress-bar {\n",
       "        background: #F44336;\n",
       "    }\n",
       "</style>\n"
      ],
      "text/plain": [
       "<IPython.core.display.HTML object>"
      ]
     },
     "metadata": {},
     "output_type": "display_data"
    },
    {
     "data": {
      "text/html": [
       "\n",
       "    <div>\n",
       "      <progress value='1000000' class='' max='1000000' style='width:300px; height:20px; vertical-align: middle;'></progress>\n",
       "      100.00% [1000000/1000000 00:00&lt;?]\n",
       "    </div>\n",
       "    "
      ],
      "text/plain": [
       "<IPython.core.display.HTML object>"
      ]
     },
     "metadata": {},
     "output_type": "display_data"
    },
    {
     "name": "stdout",
     "output_type": "stream",
     "text": [
      "\n",
      "\n",
      "\n",
      "\n",
      "\n",
      "AVG NUM STEPS PER TRAJ 1.0\n",
      "crossing 1000000 2000000.0 5e-05\n",
      "True mean [0. 0. 0. 0. 0. 0. 0. 0. 0. 0.]\n",
      "True std [1. 1. 1. 1. 1. 1. 1. 1. 1. 1.]\n",
      "Empirical mean [-4.4844445e-04  9.6024398e-04 -4.8894802e-04  2.4422540e-04\n",
      " -2.2291396e-04  5.8655086e-04 -9.1175076e-05  4.6030068e-04\n",
      "  4.3343444e-04 -5.7027605e-04]\n",
      "Empirical std [1.1246423 1.1246278 1.1246146 1.1246451 1.1248173 1.1249619 1.1253086\n",
      " 1.1253952 1.1244301 1.1248647]\n"
     ]
    },
    {
     "data": {
      "text/html": [
       "\n",
       "<style>\n",
       "    /* Turns off some styling */\n",
       "    progress {\n",
       "        /* gets rid of default border in Firefox and Opera. */\n",
       "        border: none;\n",
       "        /* Needs to be in here for Safari polyfill so background images work as expected. */\n",
       "        background-size: auto;\n",
       "    }\n",
       "    progress:not([value]), progress:not([value])::-webkit-progress-bar {\n",
       "        background: repeating-linear-gradient(45deg, #7e7e7e, #7e7e7e 10px, #5c5c5c 10px, #5c5c5c 20px);\n",
       "    }\n",
       "    .progress-bar-interrupted, .progress-bar-interrupted::-webkit-progress-bar {\n",
       "        background: #F44336;\n",
       "    }\n",
       "</style>\n"
      ],
      "text/plain": [
       "<IPython.core.display.HTML object>"
      ]
     },
     "metadata": {},
     "output_type": "display_data"
    },
    {
     "data": {
      "text/html": [
       "\n",
       "    <div>\n",
       "      <progress value='1000000' class='' max='1000000' style='width:300px; height:20px; vertical-align: middle;'></progress>\n",
       "      100.00% [1000000/1000000 00:00&lt;?]\n",
       "    </div>\n",
       "    "
      ],
      "text/plain": [
       "<IPython.core.display.HTML object>"
      ]
     },
     "metadata": {},
     "output_type": "display_data"
    },
    {
     "name": "stdout",
     "output_type": "stream",
     "text": [
      "\n",
      "\n",
      "\n",
      "\n",
      "\n",
      "AVG NUM STEPS PER TRAJ 1.0\n",
      "crossing 1000000 2000000.0 5e-05\n",
      "True mean [0. 0. 0. 0. 0. 0. 0. 0. 0. 0.]\n",
      "True std [1. 1. 1. 1. 1. 1. 1. 1. 1. 1.]\n",
      "Empirical mean [-0.00045943  0.00098888 -0.00051681  0.00027399 -0.00025144  0.0005748\n",
      " -0.00012274  0.00049789  0.00039032 -0.00061965]\n",
      "Empirical std [1.1395509 1.1395463 1.139491  1.1395247 1.1396977 1.1398252 1.1402355\n",
      " 1.1403292 1.1393247 1.1397277]\n"
     ]
    },
    {
     "data": {
      "text/html": [
       "\n",
       "<style>\n",
       "    /* Turns off some styling */\n",
       "    progress {\n",
       "        /* gets rid of default border in Firefox and Opera. */\n",
       "        border: none;\n",
       "        /* Needs to be in here for Safari polyfill so background images work as expected. */\n",
       "        background-size: auto;\n",
       "    }\n",
       "    progress:not([value]), progress:not([value])::-webkit-progress-bar {\n",
       "        background: repeating-linear-gradient(45deg, #7e7e7e, #7e7e7e 10px, #5c5c5c 10px, #5c5c5c 20px);\n",
       "    }\n",
       "    .progress-bar-interrupted, .progress-bar-interrupted::-webkit-progress-bar {\n",
       "        background: #F44336;\n",
       "    }\n",
       "</style>\n"
      ],
      "text/plain": [
       "<IPython.core.display.HTML object>"
      ]
     },
     "metadata": {},
     "output_type": "display_data"
    },
    {
     "data": {
      "text/html": [
       "\n",
       "    <div>\n",
       "      <progress value='1000000' class='' max='1000000' style='width:300px; height:20px; vertical-align: middle;'></progress>\n",
       "      100.00% [1000000/1000000 00:00&lt;?]\n",
       "    </div>\n",
       "    "
      ],
      "text/plain": [
       "<IPython.core.display.HTML object>"
      ]
     },
     "metadata": {},
     "output_type": "display_data"
    },
    {
     "name": "stdout",
     "output_type": "stream",
     "text": [
      "\n",
      "\n",
      "\n",
      "\n",
      "\n",
      "AVG NUM STEPS PER TRAJ 1.0\n",
      "crossing 1000000 2000000.0 5e-05\n",
      "True mean [0. 0. 0. 0. 0. 0. 0. 0. 0. 0.]\n",
      "True std [1. 1. 1. 1. 1. 1. 1. 1. 1. 1.]\n",
      "Empirical mean [-0.00046892  0.0010165  -0.00054521  0.00030482 -0.00027759  0.00056304\n",
      " -0.0001541   0.00053498  0.00034555 -0.00066886]\n",
      "Empirical std [1.1548933 1.1549022 1.1548023 1.1548406 1.1550153 1.1551243 1.1555994\n",
      " 1.1556969 1.154653  1.1550256]\n"
     ]
    },
    {
     "data": {
      "text/html": [
       "\n",
       "<style>\n",
       "    /* Turns off some styling */\n",
       "    progress {\n",
       "        /* gets rid of default border in Firefox and Opera. */\n",
       "        border: none;\n",
       "        /* Needs to be in here for Safari polyfill so background images work as expected. */\n",
       "        background-size: auto;\n",
       "    }\n",
       "    progress:not([value]), progress:not([value])::-webkit-progress-bar {\n",
       "        background: repeating-linear-gradient(45deg, #7e7e7e, #7e7e7e 10px, #5c5c5c 10px, #5c5c5c 20px);\n",
       "    }\n",
       "    .progress-bar-interrupted, .progress-bar-interrupted::-webkit-progress-bar {\n",
       "        background: #F44336;\n",
       "    }\n",
       "</style>\n"
      ],
      "text/plain": [
       "<IPython.core.display.HTML object>"
      ]
     },
     "metadata": {},
     "output_type": "display_data"
    },
    {
     "data": {
      "text/html": [
       "\n",
       "    <div>\n",
       "      <progress value='1000000' class='' max='1000000' style='width:300px; height:20px; vertical-align: middle;'></progress>\n",
       "      100.00% [1000000/1000000 00:00&lt;?]\n",
       "    </div>\n",
       "    "
      ],
      "text/plain": [
       "<IPython.core.display.HTML object>"
      ]
     },
     "metadata": {},
     "output_type": "display_data"
    },
    {
     "name": "stdout",
     "output_type": "stream",
     "text": [
      "\n",
      "\n",
      "\n",
      "\n",
      "\n",
      "AVG NUM STEPS PER TRAJ 1.0\n",
      "crossing 1000000 2000000.0 5e-05\n",
      "True mean [0. 0. 0. 0. 0. 0. 0. 0. 0. 0.]\n",
      "True std [1. 1. 1. 1. 1. 1. 1. 1. 1. 1.]\n",
      "Empirical mean [-0.00047727  0.00104318 -0.00057397  0.00033663 -0.00030136  0.00055147\n",
      " -0.00018514  0.00057149  0.00029954 -0.0007177 ]\n",
      "Empirical std [1.1706208 1.1706468 1.1705004 1.170544  1.1707219 1.1708107 1.1713514\n",
      " 1.1714495 1.1703668 1.1707097]\n"
     ]
    },
    {
     "data": {
      "text/html": [
       "\n",
       "<style>\n",
       "    /* Turns off some styling */\n",
       "    progress {\n",
       "        /* gets rid of default border in Firefox and Opera. */\n",
       "        border: none;\n",
       "        /* Needs to be in here for Safari polyfill so background images work as expected. */\n",
       "        background-size: auto;\n",
       "    }\n",
       "    progress:not([value]), progress:not([value])::-webkit-progress-bar {\n",
       "        background: repeating-linear-gradient(45deg, #7e7e7e, #7e7e7e 10px, #5c5c5c 10px, #5c5c5c 20px);\n",
       "    }\n",
       "    .progress-bar-interrupted, .progress-bar-interrupted::-webkit-progress-bar {\n",
       "        background: #F44336;\n",
       "    }\n",
       "</style>\n"
      ],
      "text/plain": [
       "<IPython.core.display.HTML object>"
      ]
     },
     "metadata": {},
     "output_type": "display_data"
    },
    {
     "data": {
      "text/html": [
       "\n",
       "    <div>\n",
       "      <progress value='1000000' class='' max='1000000' style='width:300px; height:20px; vertical-align: middle;'></progress>\n",
       "      100.00% [1000000/1000000 00:00&lt;?]\n",
       "    </div>\n",
       "    "
      ],
      "text/plain": [
       "<IPython.core.display.HTML object>"
      ]
     },
     "metadata": {},
     "output_type": "display_data"
    },
    {
     "name": "stdout",
     "output_type": "stream",
     "text": [
      "\n",
      "\n",
      "\n",
      "\n",
      "\n",
      "AVG NUM STEPS PER TRAJ 1.0\n",
      "crossing 1000000 2000000.0 5e-05\n",
      "True mean [0. 0. 0. 0. 0. 0. 0. 0. 0. 0.]\n",
      "True std [1. 1. 1. 1. 1. 1. 1. 1. 1. 1.]\n",
      "Empirical mean [-0.0004848   0.00106904 -0.00060286  0.00036928 -0.00032285  0.00054025\n",
      " -0.00021578  0.00060746  0.00025263 -0.00076603]\n",
      "Empirical std [1.1866876 1.1867332 1.186539  1.1865888 1.1867713 1.1868383 1.1874455\n",
      " 1.187541  1.1864201 1.1867346]\n"
     ]
    },
    {
     "data": {
      "text/html": [
       "\n",
       "<style>\n",
       "    /* Turns off some styling */\n",
       "    progress {\n",
       "        /* gets rid of default border in Firefox and Opera. */\n",
       "        border: none;\n",
       "        /* Needs to be in here for Safari polyfill so background images work as expected. */\n",
       "        background-size: auto;\n",
       "    }\n",
       "    progress:not([value]), progress:not([value])::-webkit-progress-bar {\n",
       "        background: repeating-linear-gradient(45deg, #7e7e7e, #7e7e7e 10px, #5c5c5c 10px, #5c5c5c 20px);\n",
       "    }\n",
       "    .progress-bar-interrupted, .progress-bar-interrupted::-webkit-progress-bar {\n",
       "        background: #F44336;\n",
       "    }\n",
       "</style>\n"
      ],
      "text/plain": [
       "<IPython.core.display.HTML object>"
      ]
     },
     "metadata": {},
     "output_type": "display_data"
    },
    {
     "data": {
      "text/html": [
       "\n",
       "    <div>\n",
       "      <progress value='1000000' class='' max='1000000' style='width:300px; height:20px; vertical-align: middle;'></progress>\n",
       "      100.00% [1000000/1000000 00:00&lt;?]\n",
       "    </div>\n",
       "    "
      ],
      "text/plain": [
       "<IPython.core.display.HTML object>"
      ]
     },
     "metadata": {},
     "output_type": "display_data"
    },
    {
     "name": "stdout",
     "output_type": "stream",
     "text": [
      "\n",
      "\n",
      "\n",
      "\n",
      "\n",
      "AVG NUM STEPS PER TRAJ 1.0\n",
      "crossing 5098 10196.0 0.009807767\n",
      "True mean [0. 0. 0. 0. 0. 0. 0. 0. 0. 0.]\n",
      "True std [1. 1. 1. 1. 1. 1. 1. 1. 1. 1.]\n",
      "Empirical mean [-0.00517157  0.0033375  -0.00277036  0.00094238  0.00101887  0.00404391\n",
      "  0.00173481 -0.00141812  0.00518671 -0.00064059]\n",
      "Empirical std [0.9970813  0.999122   0.9999793  0.9998869  0.99965155 1.0011384\n",
      " 0.9989518  1.0010053  0.99719125 1.0004852 ]\n"
     ]
    },
    {
     "data": {
      "text/html": [
       "\n",
       "<style>\n",
       "    /* Turns off some styling */\n",
       "    progress {\n",
       "        /* gets rid of default border in Firefox and Opera. */\n",
       "        border: none;\n",
       "        /* Needs to be in here for Safari polyfill so background images work as expected. */\n",
       "        background-size: auto;\n",
       "    }\n",
       "    progress:not([value]), progress:not([value])::-webkit-progress-bar {\n",
       "        background: repeating-linear-gradient(45deg, #7e7e7e, #7e7e7e 10px, #5c5c5c 10px, #5c5c5c 20px);\n",
       "    }\n",
       "    .progress-bar-interrupted, .progress-bar-interrupted::-webkit-progress-bar {\n",
       "        background: #F44336;\n",
       "    }\n",
       "</style>\n"
      ],
      "text/plain": [
       "<IPython.core.display.HTML object>"
      ]
     },
     "metadata": {},
     "output_type": "display_data"
    },
    {
     "data": {
      "text/html": [
       "\n",
       "    <div>\n",
       "      <progress value='1000000' class='' max='1000000' style='width:300px; height:20px; vertical-align: middle;'></progress>\n",
       "      100.00% [1000000/1000000 00:00&lt;?]\n",
       "    </div>\n",
       "    "
      ],
      "text/plain": [
       "<IPython.core.display.HTML object>"
      ]
     },
     "metadata": {},
     "output_type": "display_data"
    },
    {
     "name": "stdout",
     "output_type": "stream",
     "text": [
      "\n",
      "\n",
      "\n",
      "\n",
      "\n",
      "AVG NUM STEPS PER TRAJ 1.0\n",
      "crossing 1614 3228.0 0.030978935\n",
      "True mean [0. 0. 0. 0. 0. 0. 0. 0. 0. 0.]\n",
      "True std [1. 1. 1. 1. 1. 1. 1. 1. 1. 1.]\n",
      "Empirical mean [-3.1005493e-03  1.6717432e-03 -8.9743134e-04  3.6965369e-04\n",
      " -2.0134190e-04  1.4257021e-03  1.4112346e-03 -4.3249610e-04\n",
      "  3.5307277e-03 -1.7519251e-05]\n",
      "Empirical std [0.9986154  0.9990737  0.9998045  0.998701   0.9996646  1.0013961\n",
      " 0.9999164  1.000503   0.99868125 0.99924606]\n"
     ]
    },
    {
     "data": {
      "text/html": [
       "\n",
       "<style>\n",
       "    /* Turns off some styling */\n",
       "    progress {\n",
       "        /* gets rid of default border in Firefox and Opera. */\n",
       "        border: none;\n",
       "        /* Needs to be in here for Safari polyfill so background images work as expected. */\n",
       "        background-size: auto;\n",
       "    }\n",
       "    progress:not([value]), progress:not([value])::-webkit-progress-bar {\n",
       "        background: repeating-linear-gradient(45deg, #7e7e7e, #7e7e7e 10px, #5c5c5c 10px, #5c5c5c 20px);\n",
       "    }\n",
       "    .progress-bar-interrupted, .progress-bar-interrupted::-webkit-progress-bar {\n",
       "        background: #F44336;\n",
       "    }\n",
       "</style>\n"
      ],
      "text/plain": [
       "<IPython.core.display.HTML object>"
      ]
     },
     "metadata": {},
     "output_type": "display_data"
    },
    {
     "data": {
      "text/html": [
       "\n",
       "    <div>\n",
       "      <progress value='1000000' class='' max='1000000' style='width:300px; height:20px; vertical-align: middle;'></progress>\n",
       "      100.00% [1000000/1000000 00:00&lt;?]\n",
       "    </div>\n",
       "    "
      ],
      "text/plain": [
       "<IPython.core.display.HTML object>"
      ]
     },
     "metadata": {},
     "output_type": "display_data"
    },
    {
     "name": "stdout",
     "output_type": "stream",
     "text": [
      "\n",
      "\n",
      "\n",
      "\n",
      "\n",
      "AVG NUM STEPS PER TRAJ 1.0\n",
      "crossing 1207 2414.0 0.04142502\n",
      "True mean [0. 0. 0. 0. 0. 0. 0. 0. 0. 0.]\n",
      "True std [1. 1. 1. 1. 1. 1. 1. 1. 1. 1.]\n",
      "Empirical mean [-0.00235638  0.0006095  -0.00118497 -0.00016125  0.0002506   0.00070704\n",
      "  0.0011249   0.00013894  0.00184033 -0.00043693]\n",
      "Empirical std [0.99985516 0.99914473 1.0000725  0.99941516 0.9989999  1.0022051\n",
      " 0.9995157  1.0003458  0.99973494 0.9995824 ]\n"
     ]
    },
    {
     "data": {
      "text/html": [
       "\n",
       "<style>\n",
       "    /* Turns off some styling */\n",
       "    progress {\n",
       "        /* gets rid of default border in Firefox and Opera. */\n",
       "        border: none;\n",
       "        /* Needs to be in here for Safari polyfill so background images work as expected. */\n",
       "        background-size: auto;\n",
       "    }\n",
       "    progress:not([value]), progress:not([value])::-webkit-progress-bar {\n",
       "        background: repeating-linear-gradient(45deg, #7e7e7e, #7e7e7e 10px, #5c5c5c 10px, #5c5c5c 20px);\n",
       "    }\n",
       "    .progress-bar-interrupted, .progress-bar-interrupted::-webkit-progress-bar {\n",
       "        background: #F44336;\n",
       "    }\n",
       "</style>\n"
      ],
      "text/plain": [
       "<IPython.core.display.HTML object>"
      ]
     },
     "metadata": {},
     "output_type": "display_data"
    },
    {
     "data": {
      "text/html": [
       "\n",
       "    <div>\n",
       "      <progress value='1000000' class='' max='1000000' style='width:300px; height:20px; vertical-align: middle;'></progress>\n",
       "      100.00% [1000000/1000000 00:00&lt;?]\n",
       "    </div>\n",
       "    "
      ],
      "text/plain": [
       "<IPython.core.display.HTML object>"
      ]
     },
     "metadata": {},
     "output_type": "display_data"
    },
    {
     "name": "stdout",
     "output_type": "stream",
     "text": [
      "\n",
      "\n",
      "\n",
      "\n",
      "\n",
      "AVG NUM STEPS PER TRAJ 1.0\n",
      "crossing 881 1762.0 0.056753688\n",
      "True mean [0. 0. 0. 0. 0. 0. 0. 0. 0. 0.]\n",
      "True std [1. 1. 1. 1. 1. 1. 1. 1. 1. 1.]\n",
      "Empirical mean [-1.6800432e-03  6.9217838e-04 -1.0210219e-03 -1.4218417e-04\n",
      "  5.6921632e-05  3.8692757e-04  9.5749588e-04  4.5366987e-04\n",
      "  1.5441774e-03 -1.6616362e-04]\n",
      "Empirical std [1.0001007  0.99900895 1.000057   0.99938196 0.99877226 1.0018756\n",
      " 0.9996039  1.0003756  0.99970293 0.9994411 ]\n"
     ]
    },
    {
     "data": {
      "text/html": [
       "\n",
       "<style>\n",
       "    /* Turns off some styling */\n",
       "    progress {\n",
       "        /* gets rid of default border in Firefox and Opera. */\n",
       "        border: none;\n",
       "        /* Needs to be in here for Safari polyfill so background images work as expected. */\n",
       "        background-size: auto;\n",
       "    }\n",
       "    progress:not([value]), progress:not([value])::-webkit-progress-bar {\n",
       "        background: repeating-linear-gradient(45deg, #7e7e7e, #7e7e7e 10px, #5c5c5c 10px, #5c5c5c 20px);\n",
       "    }\n",
       "    .progress-bar-interrupted, .progress-bar-interrupted::-webkit-progress-bar {\n",
       "        background: #F44336;\n",
       "    }\n",
       "</style>\n"
      ],
      "text/plain": [
       "<IPython.core.display.HTML object>"
      ]
     },
     "metadata": {},
     "output_type": "display_data"
    },
    {
     "data": {
      "text/html": [
       "\n",
       "    <div>\n",
       "      <progress value='1000000' class='' max='1000000' style='width:300px; height:20px; vertical-align: middle;'></progress>\n",
       "      100.00% [1000000/1000000 00:00&lt;?]\n",
       "    </div>\n",
       "    "
      ],
      "text/plain": [
       "<IPython.core.display.HTML object>"
      ]
     },
     "metadata": {},
     "output_type": "display_data"
    },
    {
     "name": "stdout",
     "output_type": "stream",
     "text": [
      "\n",
      "\n",
      "\n",
      "\n",
      "\n",
      "AVG NUM STEPS PER TRAJ 1.0\n",
      "crossing 732 1464.0 0.068306014\n",
      "True mean [0. 0. 0. 0. 0. 0. 0. 0. 0. 0.]\n",
      "True std [1. 1. 1. 1. 1. 1. 1. 1. 1. 1.]\n",
      "Empirical mean [-1.3283389e-03  8.7600946e-04 -1.1297214e-03 -1.8353338e-04\n",
      " -7.8030665e-05  5.1508093e-04  7.8580511e-04  2.3892212e-04\n",
      "  1.4049847e-03  6.6758963e-05]\n",
      "Empirical std [0.9999805  0.9984225  0.9999135  0.9995559  0.9983493  1.0012746\n",
      " 0.99966615 1.000035   0.99936604 0.99928176]\n"
     ]
    },
    {
     "data": {
      "text/html": [
       "\n",
       "<style>\n",
       "    /* Turns off some styling */\n",
       "    progress {\n",
       "        /* gets rid of default border in Firefox and Opera. */\n",
       "        border: none;\n",
       "        /* Needs to be in here for Safari polyfill so background images work as expected. */\n",
       "        background-size: auto;\n",
       "    }\n",
       "    progress:not([value]), progress:not([value])::-webkit-progress-bar {\n",
       "        background: repeating-linear-gradient(45deg, #7e7e7e, #7e7e7e 10px, #5c5c5c 10px, #5c5c5c 20px);\n",
       "    }\n",
       "    .progress-bar-interrupted, .progress-bar-interrupted::-webkit-progress-bar {\n",
       "        background: #F44336;\n",
       "    }\n",
       "</style>\n"
      ],
      "text/plain": [
       "<IPython.core.display.HTML object>"
      ]
     },
     "metadata": {},
     "output_type": "display_data"
    },
    {
     "data": {
      "text/html": [
       "\n",
       "    <div>\n",
       "      <progress value='1000000' class='' max='1000000' style='width:300px; height:20px; vertical-align: middle;'></progress>\n",
       "      100.00% [1000000/1000000 00:00&lt;?]\n",
       "    </div>\n",
       "    "
      ],
      "text/plain": [
       "<IPython.core.display.HTML object>"
      ]
     },
     "metadata": {},
     "output_type": "display_data"
    },
    {
     "name": "stdout",
     "output_type": "stream",
     "text": [
      "\n",
      "\n",
      "\n",
      "\n",
      "\n",
      "AVG NUM STEPS PER TRAJ 1.0\n",
      "crossing 624 1248.0 0.08012821\n",
      "True mean [0. 0. 0. 0. 0. 0. 0. 0. 0. 0.]\n",
      "True std [1. 1. 1. 1. 1. 1. 1. 1. 1. 1.]\n",
      "Empirical mean [-1.0713448e-03  8.2502142e-04 -1.1101416e-03 -1.7456646e-04\n",
      " -6.8566651e-06  6.3027977e-04  6.4618886e-04  1.4510592e-04\n",
      "  1.3310667e-03  1.6772308e-04]\n",
      "Empirical std [0.9997317  0.9980485  0.99968654 0.99939996 0.9980553  1.0006541\n",
      " 0.9995685  0.9995722  0.99892986 0.999081  ]\n"
     ]
    },
    {
     "data": {
      "text/html": [
       "\n",
       "<style>\n",
       "    /* Turns off some styling */\n",
       "    progress {\n",
       "        /* gets rid of default border in Firefox and Opera. */\n",
       "        border: none;\n",
       "        /* Needs to be in here for Safari polyfill so background images work as expected. */\n",
       "        background-size: auto;\n",
       "    }\n",
       "    progress:not([value]), progress:not([value])::-webkit-progress-bar {\n",
       "        background: repeating-linear-gradient(45deg, #7e7e7e, #7e7e7e 10px, #5c5c5c 10px, #5c5c5c 20px);\n",
       "    }\n",
       "    .progress-bar-interrupted, .progress-bar-interrupted::-webkit-progress-bar {\n",
       "        background: #F44336;\n",
       "    }\n",
       "</style>\n"
      ],
      "text/plain": [
       "<IPython.core.display.HTML object>"
      ]
     },
     "metadata": {},
     "output_type": "display_data"
    },
    {
     "data": {
      "text/html": [
       "\n",
       "    <div>\n",
       "      <progress value='1000000' class='' max='1000000' style='width:300px; height:20px; vertical-align: middle;'></progress>\n",
       "      100.00% [1000000/1000000 00:00&lt;?]\n",
       "    </div>\n",
       "    "
      ],
      "text/plain": [
       "<IPython.core.display.HTML object>"
      ]
     },
     "metadata": {},
     "output_type": "display_data"
    },
    {
     "name": "stdout",
     "output_type": "stream",
     "text": [
      "\n",
      "\n",
      "\n",
      "\n",
      "\n",
      "AVG NUM STEPS PER TRAJ 1.0\n",
      "crossing 567 1134.0 0.08818342\n",
      "True mean [0. 0. 0. 0. 0. 0. 0. 0. 0. 0.]\n",
      "True std [1. 1. 1. 1. 1. 1. 1. 1. 1. 1.]\n",
      "Empirical mean [-1.0326314e-03  7.7568978e-04 -9.6391857e-04 -1.0795182e-04\n",
      "  7.7747245e-05  7.5978314e-04  6.0725876e-04  6.1879742e-05\n",
      "  1.3337256e-03  1.9354526e-04]\n",
      "Empirical std [0.9992882  0.99778277 0.9991286  0.9990503  0.99787426 1.0000976\n",
      " 0.99925125 0.9990886  0.9985852  0.9987479 ]\n"
     ]
    },
    {
     "data": {
      "text/html": [
       "\n",
       "<style>\n",
       "    /* Turns off some styling */\n",
       "    progress {\n",
       "        /* gets rid of default border in Firefox and Opera. */\n",
       "        border: none;\n",
       "        /* Needs to be in here for Safari polyfill so background images work as expected. */\n",
       "        background-size: auto;\n",
       "    }\n",
       "    progress:not([value]), progress:not([value])::-webkit-progress-bar {\n",
       "        background: repeating-linear-gradient(45deg, #7e7e7e, #7e7e7e 10px, #5c5c5c 10px, #5c5c5c 20px);\n",
       "    }\n",
       "    .progress-bar-interrupted, .progress-bar-interrupted::-webkit-progress-bar {\n",
       "        background: #F44336;\n",
       "    }\n",
       "</style>\n"
      ],
      "text/plain": [
       "<IPython.core.display.HTML object>"
      ]
     },
     "metadata": {},
     "output_type": "display_data"
    },
    {
     "data": {
      "text/html": [
       "\n",
       "    <div>\n",
       "      <progress value='1000000' class='' max='1000000' style='width:300px; height:20px; vertical-align: middle;'></progress>\n",
       "      100.00% [1000000/1000000 00:00&lt;?]\n",
       "    </div>\n",
       "    "
      ],
      "text/plain": [
       "<IPython.core.display.HTML object>"
      ]
     },
     "metadata": {},
     "output_type": "display_data"
    },
    {
     "name": "stdout",
     "output_type": "stream",
     "text": [
      "\n",
      "\n",
      "\n",
      "\n",
      "\n",
      "AVG NUM STEPS PER TRAJ 1.0\n",
      "crossing 517 1034.0 0.0967118\n",
      "True mean [0. 0. 0. 0. 0. 0. 0. 0. 0. 0.]\n",
      "True std [1. 1. 1. 1. 1. 1. 1. 1. 1. 1.]\n",
      "Empirical mean [-9.7262987e-04  7.9279311e-04 -8.5106486e-04 -6.6407774e-05\n",
      "  1.6041775e-04  7.9047697e-04  6.0318207e-04 -5.7894595e-05\n",
      "  1.2262295e-03  2.7220068e-04]\n",
      "Empirical std [0.9986879  0.99747455 0.99850667 0.9986404  0.9976671  0.9995425\n",
      " 0.9987544  0.9986034  0.99813664 0.9983506 ]\n"
     ]
    },
    {
     "data": {
      "text/html": [
       "\n",
       "<style>\n",
       "    /* Turns off some styling */\n",
       "    progress {\n",
       "        /* gets rid of default border in Firefox and Opera. */\n",
       "        border: none;\n",
       "        /* Needs to be in here for Safari polyfill so background images work as expected. */\n",
       "        background-size: auto;\n",
       "    }\n",
       "    progress:not([value]), progress:not([value])::-webkit-progress-bar {\n",
       "        background: repeating-linear-gradient(45deg, #7e7e7e, #7e7e7e 10px, #5c5c5c 10px, #5c5c5c 20px);\n",
       "    }\n",
       "    .progress-bar-interrupted, .progress-bar-interrupted::-webkit-progress-bar {\n",
       "        background: #F44336;\n",
       "    }\n",
       "</style>\n"
      ],
      "text/plain": [
       "<IPython.core.display.HTML object>"
      ]
     },
     "metadata": {},
     "output_type": "display_data"
    },
    {
     "data": {
      "text/html": [
       "\n",
       "    <div>\n",
       "      <progress value='1000000' class='' max='1000000' style='width:300px; height:20px; vertical-align: middle;'></progress>\n",
       "      100.00% [1000000/1000000 00:00&lt;?]\n",
       "    </div>\n",
       "    "
      ],
      "text/plain": [
       "<IPython.core.display.HTML object>"
      ]
     },
     "metadata": {},
     "output_type": "display_data"
    },
    {
     "name": "stdout",
     "output_type": "stream",
     "text": [
      "\n",
      "\n",
      "\n",
      "\n",
      "\n",
      "AVG NUM STEPS PER TRAJ 1.0\n",
      "crossing 421 842.0 0.11876485\n",
      "True mean [0. 0. 0. 0. 0. 0. 0. 0. 0. 0.]\n",
      "True std [1. 1. 1. 1. 1. 1. 1. 1. 1. 1.]\n",
      "Empirical mean [-8.2940538e-04  8.3722023e-04 -7.8672444e-04 -5.1147646e-05\n",
      "  1.4067370e-04  7.9853489e-04  5.4690952e-04 -1.2589480e-04\n",
      "  1.1076768e-03  3.2644454e-04]\n",
      "Empirical std [0.99805915 0.9971509  0.9979524  0.9982003  0.9974034  0.9989581\n",
      " 0.99819356 0.9980555  0.9976001  0.99791026]\n"
     ]
    },
    {
     "data": {
      "text/html": [
       "\n",
       "<style>\n",
       "    /* Turns off some styling */\n",
       "    progress {\n",
       "        /* gets rid of default border in Firefox and Opera. */\n",
       "        border: none;\n",
       "        /* Needs to be in here for Safari polyfill so background images work as expected. */\n",
       "        background-size: auto;\n",
       "    }\n",
       "    progress:not([value]), progress:not([value])::-webkit-progress-bar {\n",
       "        background: repeating-linear-gradient(45deg, #7e7e7e, #7e7e7e 10px, #5c5c5c 10px, #5c5c5c 20px);\n",
       "    }\n",
       "    .progress-bar-interrupted, .progress-bar-interrupted::-webkit-progress-bar {\n",
       "        background: #F44336;\n",
       "    }\n",
       "</style>\n"
      ],
      "text/plain": [
       "<IPython.core.display.HTML object>"
      ]
     },
     "metadata": {},
     "output_type": "display_data"
    },
    {
     "data": {
      "text/html": [
       "\n",
       "    <div>\n",
       "      <progress value='1000000' class='' max='1000000' style='width:300px; height:20px; vertical-align: middle;'></progress>\n",
       "      100.00% [1000000/1000000 00:00&lt;?]\n",
       "    </div>\n",
       "    "
      ],
      "text/plain": [
       "<IPython.core.display.HTML object>"
      ]
     },
     "metadata": {},
     "output_type": "display_data"
    },
    {
     "name": "stdout",
     "output_type": "stream",
     "text": [
      "\n",
      "\n",
      "\n",
      "\n",
      "\n",
      "AVG NUM STEPS PER TRAJ 1.0\n",
      "crossing 278 556.0 0.17985612\n",
      "True mean [0. 0. 0. 0. 0. 0. 0. 0. 0. 0.]\n",
      "True std [1. 1. 1. 1. 1. 1. 1. 1. 1. 1.]\n",
      "Empirical mean [-6.5562845e-04  7.9916429e-04 -6.9301506e-04 -5.5023749e-05\n",
      "  8.8572961e-05  8.2613516e-04  4.6081480e-04 -1.6834887e-04\n",
      "  1.0205342e-03  3.2615586e-04]\n",
      "Empirical std [0.997379   0.99673295 0.9973893  0.99774677 0.99702686 0.9983093\n",
      " 0.99757224 0.9974398  0.99702024 0.9974102 ]\n"
     ]
    }
   ],
   "source": [
    "batch_size = 10\n",
    "N = 1000000\n",
    "model = \"normal\"\n",
    "results, optimal_step_size, optimal_L = parameter_exploration(model, batch_size=batch_size, N=N)\n"
   ]
  },
  {
   "cell_type": "code",
   "execution_count": 20,
   "metadata": {},
   "outputs": [
    {
     "name": "stderr",
     "output_type": "stream",
     "text": [
      "/opt/homebrew/Caskroom/miniconda/base/envs/mclmc/lib/python3.11/site-packages/pandas/plotting/_matplotlib/core.py:1266: UserWarning: No data for colormapping provided via 'c'. Parameters 'cmap' will be ignored\n",
      "  scatter = ax.scatter(\n",
      "/opt/homebrew/Caskroom/miniconda/base/envs/mclmc/lib/python3.11/site-packages/pandas/plotting/_matplotlib/core.py:1266: UserWarning: No data for colormapping provided via 'c'. Parameters 'cmap' will be ignored\n",
      "  scatter = ax.scatter(\n"
     ]
    },
    {
     "data": {
      "image/png": "[encoded data removed]",
      "text/plain": [
       "<Figure size 640x480 with 1 Axes>"
      ]
     },
     "metadata": {},
     "output_type": "display_data"
    },
    {
     "data": {
      "image/png": "[encoded data removed]",
      "text/plain": [
       "<Figure size 640x480 with 1 Axes>"
      ]
     },
     "metadata": {},
     "output_type": "display_data"
    }
   ],
   "source": [
    "df = pd.Series(results).reset_index()\n",
    "df.columns = [\"model\", \"step_size\", \"L\", \"noise\", \"N\", \"bias\"] \n",
    "\n",
    "df_1 = df[df.N==N]\n",
    "df_1 = df_1[df_1.model==model]\n",
    "df_1 = df_1[df_1.step_size==optimal_step_size]\n",
    "df_1 = df_1[df_1.L==optimal_L]\n",
    "df_1\n",
    "\n",
    "df_1.plot.scatter(x=\"noise\", y=\"bias\", colormap='viridis', )\n",
    "df_1.plot.scatter(x=\"noise\", y=\"bias\", colormap='viridis', loglog=True)\n",
    "plt.xlabel('noise')\n",
    "plt.ylabel(f'Bias (mean over {batch_size} runs)')\n",
    "plt.title(f'{model}, 2D, N={N} steps')\n",
    "plt.show()"
   ]
  },
  {
   "cell_type": "code",
   "execution_count": 21,
   "metadata": {},
   "outputs": [
    {
     "name": "stderr",
     "output_type": "stream",
     "text": [
      "/opt/homebrew/Caskroom/miniconda/base/envs/mclmc/lib/python3.11/site-packages/pandas/plotting/_matplotlib/core.py:1266: UserWarning: No data for colormapping provided via 'c'. Parameters 'cmap' will be ignored\n",
      "  scatter = ax.scatter(\n",
      "/opt/homebrew/Caskroom/miniconda/base/envs/mclmc/lib/python3.11/site-packages/pandas/plotting/_matplotlib/core.py:1266: UserWarning: No data for colormapping provided via 'c'. Parameters 'cmap' will be ignored\n",
      "  scatter = ax.scatter(\n"
     ]
    },
    {
     "data": {
      "image/png": "[encoded data removed]",
      "text/plain": [
       "<Figure size 640x480 with 1 Axes>"
      ]
     },
     "metadata": {},
     "output_type": "display_data"
    },
    {
     "data": {
      "image/png": "[encoded data removed]",
      "text/plain": [
       "<Figure size 640x480 with 1 Axes>"
      ]
     },
     "metadata": {},
     "output_type": "display_data"
    }
   ],
   "source": [
    "df_2 = df[df.N==N]\n",
    "df_2 = df_2[df_2.model==model]\n",
    "df_2 = df_2[df_2.noise==0.0]\n",
    "df_2 = df_2[df_2.L==optimal_L]\n",
    "df_2\n",
    "\n",
    "df_2.plot.scatter(x=\"step_size\", y=\"bias\", colormap='viridis')\n",
    "df_2.plot.scatter(x=\"step_size\", y=\"bias\", colormap='viridis', loglog=True)\n",
    "plt.xlabel('step size')\n",
    "plt.ylabel(f'Bias (mean over {batch_size} runs)')\n",
    "plt.title(f'{model}, N={N} steps')\n",
    "plt.show()\n"
   ]
  },
  {
   "cell_type": "code",
   "execution_count": 14,
   "metadata": {},
   "outputs": [],
   "source": [
    "# df_3 = df\n",
    "# df_3 = df_3[df_3['N'] > 1000000]\n",
    "# df_3 = df_3[df_3.model==\"Banana\"]\n",
    "# df_3 = df_3[df_3.step_size==1.005]\n",
    "# df_3 = df_3[df_3.L==16.765137]\n",
    "# df_3\n",
    "\n",
    "\n",
    "# df_3.plot.scatter(x=\"N\", y=\"bias\", colormap='viridis', c='noise')\n",
    "# plt.xlabel('N')\n",
    "# plt.ylabel(f'Bias (mean over {batch_size} runs)')\n",
    "# plt.title(f'Banana, 2D, step size=1.005, L=16.765137')\n",
    "# plt.show()"
   ]
  },
  {
   "cell_type": "code",
   "execution_count": null,
   "metadata": {},
   "outputs": [],
   "source": []
  }
 ],
 "metadata": {
  "kernelspec": {
   "display_name": "mclmc",
   "language": "python",
   "name": "python3"
  },
  "language_info": {
   "codemirror_mode": {
    "name": "ipython",
    "version": 3
   },
   "file_extension": ".py",
   "mimetype": "text/x-python",
   "name": "python",
   "nbconvert_exporter": "python",
   "pygments_lexer": "ipython3",
   "version": "3.11.5"
  }
 },
 "nbformat": 4,
 "nbformat_minor": 2
}
