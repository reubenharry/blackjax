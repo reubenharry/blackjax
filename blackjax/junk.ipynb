{
 "cells": [
  {
   "cell_type": "code",
   "execution_count": 32,
   "metadata": {},
   "outputs": [
    {
     "name": "stdout",
     "output_type": "stream",
     "text": [
      "[0.3203125, 0.6796875, 0.9999994785156253, 'info 0.3203125']\n"
     ]
    }
   ],
   "source": [
    "import numpy as np\n",
    "\n",
    "\n",
    "\n",
    "def grid_search(func, x, y, delta_x, delta_y, size_grid= 5, num_iter= 3):\n",
    "    \"\"\"Args:\n",
    "        inital state: (x, y, delta_x, delta_y). We will also call z = (x, y)\n",
    "        In each iteration the region [x - delta_x, x + delta_x] \\times [y - delta_y, y + delta_y] is covered by a square grid\n",
    "        [x-delta_x + n hx for n in range(size_grid)] \\times [y-delta_y + n hy for n in range(size_grid)]\n",
    "        where hx = 2 delta x / (size_grid - 1)\n",
    "        In the next iteration (x, y) will be the best points on the previous grid and delta_x = hx, delta_y= hy\n",
    "        \n",
    "        func(x, y) = (score, extra_results)\n",
    "\n",
    "      Returns:\n",
    "        (x, y, score, extra results) at the best parameters\n",
    "    \"\"\"\n",
    "    \n",
    "    def kernel(state):\n",
    "        z, delta_z = state\n",
    "\n",
    "        # compute the func on the grid\n",
    "        Z = np.linspace(z - delta_z, z + delta_z, size_grid)\n",
    "        Results = [[func(xx, yy) for yy in Z[:, 1]] for xx in Z[:, 0]]\n",
    "        Scores = [[Results[i][j][0] for j in range(size_grid)] for i in range(size_grid)]\n",
    "\n",
    "        # find the best point on the grid\n",
    "        ind = np.unravel_index(np.argmax(Scores, axis=None), (size_grid, size_grid))\n",
    "        \n",
    "        # new grid\n",
    "        state = (np.array([Z[ind[i], i] for i in range(2)]), 2 * delta_z / (size_grid - 1))\n",
    "        \n",
    "        return state, Results[ind[0]][ind[1]]\n",
    "    \n",
    "        \n",
    "    state = (np.array([x, y]), np.array([delta_x, delta_y]))\n",
    "\n",
    "    for iteration in range(num_iter): # iteratively shrink and shift the grid\n",
    "        state, results = kernel(state)\n",
    "        \n",
    "    return [state[0][0], state[0][1], *results]\n",
    "\n",
    "\n",
    "def func(x, y):\n",
    "    score = np.cos(x-0.32) - np.square(y-0.679)\n",
    "    extra_info = 'info ' + str(x)\n",
    "    return score, extra_info\n",
    "    \n",
    "results = grid_search(func, 0., 0., 1., 2., size_grid= 5, num_iter=10)\n",
    "print(results)\n"
   ]
  },
  {
   "cell_type": "code",
   "execution_count": null,
   "metadata": {},
   "outputs": [],
   "source": [
    "def func(x, y):\n",
    "    \n"
   ]
  }
 ],
 "metadata": {
  "language_info": {
   "name": "python"
  }
 },
 "nbformat": 4,
 "nbformat_minor": 2
}
